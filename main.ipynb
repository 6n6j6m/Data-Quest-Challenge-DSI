{
 "cells": [
  {
   "cell_type": "markdown",
   "id": "2e55440d",
   "metadata": {},
   "source": [
    "# Lib"
   ]
  },
  {
   "cell_type": "code",
   "execution_count": 1,
   "id": "24dc3d07",
   "metadata": {},
   "outputs": [
    {
     "name": "stdout",
     "output_type": "stream",
     "text": [
      "Seed set to 42\n"
     ]
    }
   ],
   "source": [
    "from sklearn.feature_selection import RFE\n",
    "from sklearn.model_selection import train_test_split\n",
    "import numpy as np\n",
    "import pandas as pd\n",
    "import matplotlib.pyplot as plt\n",
    "import seaborn as sns\n",
    "import os\n",
    "import random\n",
    "from imblearn.over_sampling import ADASYN\n",
    "import sklearn\n",
    "from sklearn.experimental import enable_iterative_imputer\n",
    "from sklearn.impute import IterativeImputer, KNNImputer\n",
    "from sklearn.preprocessing import StandardScaler, MinMaxScaler, RobustScaler, LabelEncoder, PolynomialFeatures\n",
    "from sklearn.feature_selection import SelectFromModel\n",
    "from sklearn.decomposition import PCA\n",
    "from imblearn.over_sampling import SMOTE\n",
    "from sklearn.linear_model import LogisticRegression, Lasso, LassoCV\n",
    "from collections import Counter\n",
    "import xgboost as xgb\n",
    "from xgboost import XGBClassifier\n",
    "from catboost import CatBoostClassifier\n",
    "from sklearn.metrics import accuracy_score, classification_report, roc_auc_score, confusion_matrix\n",
    "from sklearn.model_selection import GridSearchCV, RandomizedSearchCV\n",
    "import optuna\n",
    "import shap\n",
    "def set_seed(seed):\n",
    "    random.seed(seed)\n",
    "    np.random.seed(seed)\n",
    "    os.environ['PYTHONHASHSEED'] = str(seed)\n",
    "    print(f\"Seed set to {seed}\")\n",
    "set_seed(42)"
   ]
  },
  {
   "cell_type": "code",
   "execution_count": 2,
   "id": "fe7f2651",
   "metadata": {},
   "outputs": [],
   "source": [
    "train = pd.read_csv('D:/Data Quest Challenge DSI/training_dataset.csv')\n",
    "test = pd.read_csv('D:/Data Quest Challenge DSI/validation_set.csv')\n",
    "\n",
    "train.drop(['customer_number'], inplace=True, axis=1)\n",
    "test.drop(['customer_number'], inplace=True, axis=1)"
   ]
  },
  {
   "cell_type": "code",
   "execution_count": 3,
   "id": "3ab7bb32",
   "metadata": {},
   "outputs": [
    {
     "name": "stdout",
     "output_type": "stream",
     "text": [
      "<class 'pandas.core.frame.DataFrame'>\n",
      "RangeIndex: 22916 entries, 0 to 22915\n",
      "Data columns (total 21 columns):\n",
      " #   Column                        Non-Null Count  Dtype  \n",
      "---  ------                        --------------  -----  \n",
      " 0   usia                          22916 non-null  int64  \n",
      " 1   pekerjaan                     22916 non-null  object \n",
      " 2   status_perkawinan             22916 non-null  object \n",
      " 3   pendidikan                    22916 non-null  object \n",
      " 4   gagal_bayar_sebelumnya        22916 non-null  object \n",
      " 5   pinjaman_rumah                22916 non-null  object \n",
      " 6   pinjaman_pribadi              22916 non-null  object \n",
      " 7   jenis_kontak                  22916 non-null  object \n",
      " 8   bulan_kontak_terakhir         22916 non-null  object \n",
      " 9   hari_kontak_terakhir          22916 non-null  object \n",
      " 10  jumlah_kontak_kampanye_ini    22916 non-null  int64  \n",
      " 11  hari_sejak_kontak_sebelumnya  22916 non-null  int64  \n",
      " 12  jumlah_kontak_sebelumnya      22916 non-null  int64  \n",
      " 13  hasil_kampanye_sebelumnya     22916 non-null  object \n",
      " 14  tingkat_variasi_pekerjaan     22916 non-null  float64\n",
      " 15  indeks_harga_konsumen         22916 non-null  float64\n",
      " 16  indeks_kepercayaan_konsumen   22916 non-null  float64\n",
      " 17  suku_bunga_euribor_3bln       22916 non-null  float64\n",
      " 18  jumlah_pekerja                22916 non-null  float64\n",
      " 19  pulau                         22916 non-null  object \n",
      " 20  berlangganan_deposito         22916 non-null  int64  \n",
      "dtypes: float64(5), int64(5), object(11)\n",
      "memory usage: 3.7+ MB\n",
      "None\n",
      "<class 'pandas.core.frame.DataFrame'>\n",
      "RangeIndex: 5729 entries, 0 to 5728\n",
      "Data columns (total 20 columns):\n",
      " #   Column                        Non-Null Count  Dtype  \n",
      "---  ------                        --------------  -----  \n",
      " 0   usia                          5729 non-null   int64  \n",
      " 1   pekerjaan                     5729 non-null   object \n",
      " 2   status_perkawinan             5729 non-null   object \n",
      " 3   pendidikan                    5729 non-null   object \n",
      " 4   gagal_bayar_sebelumnya        5729 non-null   object \n",
      " 5   pinjaman_rumah                5729 non-null   object \n",
      " 6   pinjaman_pribadi              5729 non-null   object \n",
      " 7   jenis_kontak                  5729 non-null   object \n",
      " 8   bulan_kontak_terakhir         5729 non-null   object \n",
      " 9   hari_kontak_terakhir          5729 non-null   object \n",
      " 10  jumlah_kontak_kampanye_ini    5729 non-null   int64  \n",
      " 11  hari_sejak_kontak_sebelumnya  5729 non-null   int64  \n",
      " 12  jumlah_kontak_sebelumnya      5729 non-null   int64  \n",
      " 13  hasil_kampanye_sebelumnya     5729 non-null   object \n",
      " 14  tingkat_variasi_pekerjaan     5729 non-null   float64\n",
      " 15  indeks_harga_konsumen         5729 non-null   float64\n",
      " 16  indeks_kepercayaan_konsumen   5729 non-null   float64\n",
      " 17  suku_bunga_euribor_3bln       5729 non-null   float64\n",
      " 18  jumlah_pekerja                5729 non-null   float64\n",
      " 19  pulau                         5729 non-null   object \n",
      "dtypes: float64(5), int64(4), object(11)\n",
      "memory usage: 895.3+ KB\n",
      "None\n"
     ]
    }
   ],
   "source": [
    "print(train.info())\n",
    "print(test.info())"
   ]
  },
  {
   "cell_type": "code",
   "execution_count": 4,
   "id": "8a61ad2f",
   "metadata": {},
   "outputs": [
    {
     "name": "stdout",
     "output_type": "stream",
     "text": [
      "Missing values in training dataset:\n",
      "usia                            0\n",
      "pekerjaan                       0\n",
      "status_perkawinan               0\n",
      "pendidikan                      0\n",
      "gagal_bayar_sebelumnya          0\n",
      "pinjaman_rumah                  0\n",
      "pinjaman_pribadi                0\n",
      "jenis_kontak                    0\n",
      "bulan_kontak_terakhir           0\n",
      "hari_kontak_terakhir            0\n",
      "jumlah_kontak_kampanye_ini      0\n",
      "hari_sejak_kontak_sebelumnya    0\n",
      "jumlah_kontak_sebelumnya        0\n",
      "hasil_kampanye_sebelumnya       0\n",
      "tingkat_variasi_pekerjaan       0\n",
      "indeks_harga_konsumen           0\n",
      "indeks_kepercayaan_konsumen     0\n",
      "suku_bunga_euribor_3bln         0\n",
      "jumlah_pekerja                  0\n",
      "pulau                           0\n",
      "berlangganan_deposito           0\n",
      "dtype: int64\n",
      "\n",
      "Missing values in validation dataset:\n",
      "usia                            0\n",
      "pekerjaan                       0\n",
      "status_perkawinan               0\n",
      "pendidikan                      0\n",
      "gagal_bayar_sebelumnya          0\n",
      "pinjaman_rumah                  0\n",
      "pinjaman_pribadi                0\n",
      "jenis_kontak                    0\n",
      "bulan_kontak_terakhir           0\n",
      "hari_kontak_terakhir            0\n",
      "jumlah_kontak_kampanye_ini      0\n",
      "hari_sejak_kontak_sebelumnya    0\n",
      "jumlah_kontak_sebelumnya        0\n",
      "hasil_kampanye_sebelumnya       0\n",
      "tingkat_variasi_pekerjaan       0\n",
      "indeks_harga_konsumen           0\n",
      "indeks_kepercayaan_konsumen     0\n",
      "suku_bunga_euribor_3bln         0\n",
      "jumlah_pekerja                  0\n",
      "pulau                           0\n",
      "dtype: int64\n",
      "\n",
      "Total rows with missing values:\n",
      "Training dataset: 0 out of 22916 rows\n",
      "Validation dataset: 0 out of 5729 rows\n"
     ]
    }
   ],
   "source": [
    "# Check for missing values in both train and test datasets\n",
    "print(\"Missing values in training dataset:\")\n",
    "print(train.isna().sum())\n",
    "\n",
    "print(\"\\nMissing values in validation dataset:\")\n",
    "print(test.isna().sum())\n",
    "\n",
    "# Print total number of rows with missing values in each dataset\n",
    "print(\"\\nTotal rows with missing values:\")\n",
    "print(f\"Training dataset: {train.isna().any(axis=1).sum()} out of {train.shape[0]} rows\")\n",
    "print(f\"Validation dataset: {test.isna().any(axis=1).sum()} out of {test.shape[0]} rows\")"
   ]
  },
  {
   "cell_type": "markdown",
   "id": "8deb148c",
   "metadata": {},
   "source": [
    "# EDA"
   ]
  },
  {
   "cell_type": "markdown",
   "id": "91f889b7",
   "metadata": {},
   "source": [
    "gagal_bayar_sebelumnya cuman ada 2 baris yang classnya yes"
   ]
  },
  {
   "cell_type": "code",
   "execution_count": 5,
   "id": "440f4a4d",
   "metadata": {},
   "outputs": [
    {
     "data": {
      "application/vnd.microsoft.datawrangler.viewer.v0+json": {
       "columns": [
        {
         "name": "index",
         "rawType": "int64",
         "type": "integer"
        },
        {
         "name": "usia",
         "rawType": "int64",
         "type": "integer"
        },
        {
         "name": "pekerjaan",
         "rawType": "object",
         "type": "string"
        },
        {
         "name": "status_perkawinan",
         "rawType": "object",
         "type": "string"
        },
        {
         "name": "pendidikan",
         "rawType": "object",
         "type": "string"
        },
        {
         "name": "gagal_bayar_sebelumnya",
         "rawType": "object",
         "type": "string"
        },
        {
         "name": "pinjaman_rumah",
         "rawType": "object",
         "type": "string"
        },
        {
         "name": "pinjaman_pribadi",
         "rawType": "object",
         "type": "string"
        },
        {
         "name": "jenis_kontak",
         "rawType": "object",
         "type": "string"
        },
        {
         "name": "bulan_kontak_terakhir",
         "rawType": "object",
         "type": "string"
        },
        {
         "name": "hari_kontak_terakhir",
         "rawType": "object",
         "type": "string"
        },
        {
         "name": "jumlah_kontak_kampanye_ini",
         "rawType": "int64",
         "type": "integer"
        },
        {
         "name": "hari_sejak_kontak_sebelumnya",
         "rawType": "int64",
         "type": "integer"
        },
        {
         "name": "jumlah_kontak_sebelumnya",
         "rawType": "int64",
         "type": "integer"
        },
        {
         "name": "hasil_kampanye_sebelumnya",
         "rawType": "object",
         "type": "string"
        },
        {
         "name": "tingkat_variasi_pekerjaan",
         "rawType": "float64",
         "type": "float"
        },
        {
         "name": "indeks_harga_konsumen",
         "rawType": "float64",
         "type": "float"
        },
        {
         "name": "indeks_kepercayaan_konsumen",
         "rawType": "float64",
         "type": "float"
        },
        {
         "name": "suku_bunga_euribor_3bln",
         "rawType": "float64",
         "type": "float"
        },
        {
         "name": "jumlah_pekerja",
         "rawType": "float64",
         "type": "float"
        },
        {
         "name": "pulau",
         "rawType": "object",
         "type": "string"
        },
        {
         "name": "berlangganan_deposito",
         "rawType": "int64",
         "type": "integer"
        }
       ],
       "ref": "f4b61503-5a32-44cc-a38c-01d76b596b55",
       "rows": [
        [
         "0",
         "63",
         "sosial media specialis",
         "menikah",
         "Pendidikan Tinggi",
         "no",
         "yes",
         "no",
         "cellular",
         "jul",
         "fri",
         "2",
         "999",
         "0",
         "nonexistent",
         "-1.7",
         "94.215",
         "-40.3",
         "0.885",
         "4991.6",
         "Papua",
         "1"
        ],
        [
         "1",
         "43",
         "teknisi",
         "menikah",
         "Pendidikan Tinggi",
         "no",
         "yes",
         "no",
         "cellular",
         "nov",
         "fri",
         "2",
         "999",
         "0",
         "nonexistent",
         "-0.1",
         "93.2",
         "-42.0",
         "4.021",
         "5195.8",
         "Sulawesi",
         "0"
        ],
        [
         "2",
         "29",
         "sosial media specialis",
         "lajang",
         "Pendidikan Tinggi",
         "no",
         "yes",
         "yes",
         "cellular",
         "jul",
         "thu",
         "1",
         "999",
         "0",
         "nonexistent",
         "1.4",
         "93.918",
         "-42.7",
         "4.958",
         "5228.1",
         "Papua",
         "0"
        ],
        [
         "3",
         "40",
         "pekerja kasar",
         "menikah",
         "SMA",
         "no",
         "no",
         "no",
         "telephone",
         "may",
         "wed",
         "2",
         "999",
         "0",
         "nonexistent",
         "1.1",
         "93.994",
         "-36.4",
         "4.859",
         "5191.0",
         "Sumatera",
         "1"
        ],
        [
         "4",
         "40",
         "sosial media specialis",
         "lajang",
         "Pendidikan Tinggi",
         "no",
         "no",
         "no",
         "cellular",
         "aug",
         "wed",
         "3",
         "999",
         "0",
         "nonexistent",
         "1.4",
         "93.444",
         "-36.1",
         "4.964",
         "5228.1",
         "Bali",
         "0"
        ]
       ],
       "shape": {
        "columns": 21,
        "rows": 5
       }
      },
      "text/html": [
       "<div>\n",
       "<style scoped>\n",
       "    .dataframe tbody tr th:only-of-type {\n",
       "        vertical-align: middle;\n",
       "    }\n",
       "\n",
       "    .dataframe tbody tr th {\n",
       "        vertical-align: top;\n",
       "    }\n",
       "\n",
       "    .dataframe thead th {\n",
       "        text-align: right;\n",
       "    }\n",
       "</style>\n",
       "<table border=\"1\" class=\"dataframe\">\n",
       "  <thead>\n",
       "    <tr style=\"text-align: right;\">\n",
       "      <th></th>\n",
       "      <th>usia</th>\n",
       "      <th>pekerjaan</th>\n",
       "      <th>status_perkawinan</th>\n",
       "      <th>pendidikan</th>\n",
       "      <th>gagal_bayar_sebelumnya</th>\n",
       "      <th>pinjaman_rumah</th>\n",
       "      <th>pinjaman_pribadi</th>\n",
       "      <th>jenis_kontak</th>\n",
       "      <th>bulan_kontak_terakhir</th>\n",
       "      <th>hari_kontak_terakhir</th>\n",
       "      <th>...</th>\n",
       "      <th>hari_sejak_kontak_sebelumnya</th>\n",
       "      <th>jumlah_kontak_sebelumnya</th>\n",
       "      <th>hasil_kampanye_sebelumnya</th>\n",
       "      <th>tingkat_variasi_pekerjaan</th>\n",
       "      <th>indeks_harga_konsumen</th>\n",
       "      <th>indeks_kepercayaan_konsumen</th>\n",
       "      <th>suku_bunga_euribor_3bln</th>\n",
       "      <th>jumlah_pekerja</th>\n",
       "      <th>pulau</th>\n",
       "      <th>berlangganan_deposito</th>\n",
       "    </tr>\n",
       "  </thead>\n",
       "  <tbody>\n",
       "    <tr>\n",
       "      <th>0</th>\n",
       "      <td>63</td>\n",
       "      <td>sosial media specialis</td>\n",
       "      <td>menikah</td>\n",
       "      <td>Pendidikan Tinggi</td>\n",
       "      <td>no</td>\n",
       "      <td>yes</td>\n",
       "      <td>no</td>\n",
       "      <td>cellular</td>\n",
       "      <td>jul</td>\n",
       "      <td>fri</td>\n",
       "      <td>...</td>\n",
       "      <td>999</td>\n",
       "      <td>0</td>\n",
       "      <td>nonexistent</td>\n",
       "      <td>-1.7</td>\n",
       "      <td>94.215</td>\n",
       "      <td>-40.3</td>\n",
       "      <td>0.885</td>\n",
       "      <td>4991.6</td>\n",
       "      <td>Papua</td>\n",
       "      <td>1</td>\n",
       "    </tr>\n",
       "    <tr>\n",
       "      <th>1</th>\n",
       "      <td>43</td>\n",
       "      <td>teknisi</td>\n",
       "      <td>menikah</td>\n",
       "      <td>Pendidikan Tinggi</td>\n",
       "      <td>no</td>\n",
       "      <td>yes</td>\n",
       "      <td>no</td>\n",
       "      <td>cellular</td>\n",
       "      <td>nov</td>\n",
       "      <td>fri</td>\n",
       "      <td>...</td>\n",
       "      <td>999</td>\n",
       "      <td>0</td>\n",
       "      <td>nonexistent</td>\n",
       "      <td>-0.1</td>\n",
       "      <td>93.200</td>\n",
       "      <td>-42.0</td>\n",
       "      <td>4.021</td>\n",
       "      <td>5195.8</td>\n",
       "      <td>Sulawesi</td>\n",
       "      <td>0</td>\n",
       "    </tr>\n",
       "    <tr>\n",
       "      <th>2</th>\n",
       "      <td>29</td>\n",
       "      <td>sosial media specialis</td>\n",
       "      <td>lajang</td>\n",
       "      <td>Pendidikan Tinggi</td>\n",
       "      <td>no</td>\n",
       "      <td>yes</td>\n",
       "      <td>yes</td>\n",
       "      <td>cellular</td>\n",
       "      <td>jul</td>\n",
       "      <td>thu</td>\n",
       "      <td>...</td>\n",
       "      <td>999</td>\n",
       "      <td>0</td>\n",
       "      <td>nonexistent</td>\n",
       "      <td>1.4</td>\n",
       "      <td>93.918</td>\n",
       "      <td>-42.7</td>\n",
       "      <td>4.958</td>\n",
       "      <td>5228.1</td>\n",
       "      <td>Papua</td>\n",
       "      <td>0</td>\n",
       "    </tr>\n",
       "    <tr>\n",
       "      <th>3</th>\n",
       "      <td>40</td>\n",
       "      <td>pekerja kasar</td>\n",
       "      <td>menikah</td>\n",
       "      <td>SMA</td>\n",
       "      <td>no</td>\n",
       "      <td>no</td>\n",
       "      <td>no</td>\n",
       "      <td>telephone</td>\n",
       "      <td>may</td>\n",
       "      <td>wed</td>\n",
       "      <td>...</td>\n",
       "      <td>999</td>\n",
       "      <td>0</td>\n",
       "      <td>nonexistent</td>\n",
       "      <td>1.1</td>\n",
       "      <td>93.994</td>\n",
       "      <td>-36.4</td>\n",
       "      <td>4.859</td>\n",
       "      <td>5191.0</td>\n",
       "      <td>Sumatera</td>\n",
       "      <td>1</td>\n",
       "    </tr>\n",
       "    <tr>\n",
       "      <th>4</th>\n",
       "      <td>40</td>\n",
       "      <td>sosial media specialis</td>\n",
       "      <td>lajang</td>\n",
       "      <td>Pendidikan Tinggi</td>\n",
       "      <td>no</td>\n",
       "      <td>no</td>\n",
       "      <td>no</td>\n",
       "      <td>cellular</td>\n",
       "      <td>aug</td>\n",
       "      <td>wed</td>\n",
       "      <td>...</td>\n",
       "      <td>999</td>\n",
       "      <td>0</td>\n",
       "      <td>nonexistent</td>\n",
       "      <td>1.4</td>\n",
       "      <td>93.444</td>\n",
       "      <td>-36.1</td>\n",
       "      <td>4.964</td>\n",
       "      <td>5228.1</td>\n",
       "      <td>Bali</td>\n",
       "      <td>0</td>\n",
       "    </tr>\n",
       "  </tbody>\n",
       "</table>\n",
       "<p>5 rows × 21 columns</p>\n",
       "</div>"
      ],
      "text/plain": [
       "   usia               pekerjaan status_perkawinan         pendidikan  \\\n",
       "0    63  sosial media specialis           menikah  Pendidikan Tinggi   \n",
       "1    43                 teknisi           menikah  Pendidikan Tinggi   \n",
       "2    29  sosial media specialis            lajang  Pendidikan Tinggi   \n",
       "3    40           pekerja kasar           menikah                SMA   \n",
       "4    40  sosial media specialis            lajang  Pendidikan Tinggi   \n",
       "\n",
       "  gagal_bayar_sebelumnya pinjaman_rumah pinjaman_pribadi jenis_kontak  \\\n",
       "0                     no            yes               no     cellular   \n",
       "1                     no            yes               no     cellular   \n",
       "2                     no            yes              yes     cellular   \n",
       "3                     no             no               no    telephone   \n",
       "4                     no             no               no     cellular   \n",
       "\n",
       "  bulan_kontak_terakhir hari_kontak_terakhir  ...  \\\n",
       "0                   jul                  fri  ...   \n",
       "1                   nov                  fri  ...   \n",
       "2                   jul                  thu  ...   \n",
       "3                   may                  wed  ...   \n",
       "4                   aug                  wed  ...   \n",
       "\n",
       "   hari_sejak_kontak_sebelumnya  jumlah_kontak_sebelumnya  \\\n",
       "0                           999                         0   \n",
       "1                           999                         0   \n",
       "2                           999                         0   \n",
       "3                           999                         0   \n",
       "4                           999                         0   \n",
       "\n",
       "   hasil_kampanye_sebelumnya tingkat_variasi_pekerjaan  indeks_harga_konsumen  \\\n",
       "0                nonexistent                      -1.7                 94.215   \n",
       "1                nonexistent                      -0.1                 93.200   \n",
       "2                nonexistent                       1.4                 93.918   \n",
       "3                nonexistent                       1.1                 93.994   \n",
       "4                nonexistent                       1.4                 93.444   \n",
       "\n",
       "   indeks_kepercayaan_konsumen  suku_bunga_euribor_3bln  jumlah_pekerja  \\\n",
       "0                        -40.3                    0.885          4991.6   \n",
       "1                        -42.0                    4.021          5195.8   \n",
       "2                        -42.7                    4.958          5228.1   \n",
       "3                        -36.4                    4.859          5191.0   \n",
       "4                        -36.1                    4.964          5228.1   \n",
       "\n",
       "      pulau berlangganan_deposito  \n",
       "0     Papua                     1  \n",
       "1  Sulawesi                     0  \n",
       "2     Papua                     0  \n",
       "3  Sumatera                     1  \n",
       "4      Bali                     0  \n",
       "\n",
       "[5 rows x 21 columns]"
      ]
     },
     "execution_count": 5,
     "metadata": {},
     "output_type": "execute_result"
    }
   ],
   "source": [
    "train.head()"
   ]
  },
  {
   "cell_type": "markdown",
   "id": "2afd0906",
   "metadata": {},
   "source": [
    "there's no class for yes"
   ]
  },
  {
   "cell_type": "code",
   "execution_count": 6,
   "id": "21e6f29a",
   "metadata": {},
   "outputs": [
    {
     "data": {
      "application/vnd.microsoft.datawrangler.viewer.v0+json": {
       "columns": [
        {
         "name": "index",
         "rawType": "int64",
         "type": "integer"
        },
        {
         "name": "usia",
         "rawType": "int64",
         "type": "integer"
        },
        {
         "name": "pekerjaan",
         "rawType": "object",
         "type": "string"
        },
        {
         "name": "status_perkawinan",
         "rawType": "object",
         "type": "string"
        },
        {
         "name": "pendidikan",
         "rawType": "object",
         "type": "string"
        },
        {
         "name": "gagal_bayar_sebelumnya",
         "rawType": "object",
         "type": "string"
        },
        {
         "name": "pinjaman_rumah",
         "rawType": "object",
         "type": "string"
        },
        {
         "name": "pinjaman_pribadi",
         "rawType": "object",
         "type": "string"
        },
        {
         "name": "jenis_kontak",
         "rawType": "object",
         "type": "string"
        },
        {
         "name": "bulan_kontak_terakhir",
         "rawType": "object",
         "type": "string"
        },
        {
         "name": "hari_kontak_terakhir",
         "rawType": "object",
         "type": "string"
        },
        {
         "name": "jumlah_kontak_kampanye_ini",
         "rawType": "int64",
         "type": "integer"
        },
        {
         "name": "hari_sejak_kontak_sebelumnya",
         "rawType": "int64",
         "type": "integer"
        },
        {
         "name": "jumlah_kontak_sebelumnya",
         "rawType": "int64",
         "type": "integer"
        },
        {
         "name": "hasil_kampanye_sebelumnya",
         "rawType": "object",
         "type": "string"
        },
        {
         "name": "tingkat_variasi_pekerjaan",
         "rawType": "float64",
         "type": "float"
        },
        {
         "name": "indeks_harga_konsumen",
         "rawType": "float64",
         "type": "float"
        },
        {
         "name": "indeks_kepercayaan_konsumen",
         "rawType": "float64",
         "type": "float"
        },
        {
         "name": "suku_bunga_euribor_3bln",
         "rawType": "float64",
         "type": "float"
        },
        {
         "name": "jumlah_pekerja",
         "rawType": "float64",
         "type": "float"
        },
        {
         "name": "pulau",
         "rawType": "object",
         "type": "string"
        }
       ],
       "ref": "89db58ed-fe8f-4b5f-92af-e2e3019271dd",
       "rows": [
        [
         "0",
         "35",
         "penyedia jasa",
         "menikah",
         "SMA",
         "no",
         "yes",
         "yes",
         "cellular",
         "jul",
         "mon",
         "1",
         "999",
         "0",
         "nonexistent",
         "1.4",
         "93.918",
         "-42.7",
         "4.96",
         "5228.1",
         "Jawa"
        ],
        [
         "1",
         "52",
         "teknisi",
         "lajang",
         "Diploma",
         "unknown",
         "no",
         "no",
         "telephone",
         "may",
         "thu",
         "4",
         "999",
         "0",
         "nonexistent",
         "1.1",
         "93.994",
         "-36.4",
         "4.86",
         "5191.0",
         "Papua"
        ],
        [
         "2",
         "37",
         "pekerja kasar",
         "menikah",
         "SMP",
         "unknown",
         "yes",
         "no",
         "telephone",
         "may",
         "wed",
         "3",
         "999",
         "0",
         "nonexistent",
         "1.1",
         "93.994",
         "-36.4",
         "4.856",
         "5191.0",
         "Bali"
        ],
        [
         "3",
         "51",
         "pengangguran",
         "menikah",
         "Diploma",
         "no",
         "no",
         "no",
         "telephone",
         "may",
         "tue",
         "3",
         "999",
         "0",
         "nonexistent",
         "1.1",
         "93.994",
         "-36.4",
         "4.857",
         "5191.0",
         "Sumatera"
        ],
        [
         "4",
         "45",
         "teknisi",
         "cerai",
         "SMA",
         "no",
         "yes",
         "no",
         "cellular",
         "may",
         "thu",
         "1",
         "999",
         "1",
         "failure",
         "-1.8",
         "92.893",
         "-46.2",
         "1.327",
         "5099.1",
         "Sumatera"
        ]
       ],
       "shape": {
        "columns": 20,
        "rows": 5
       }
      },
      "text/html": [
       "<div>\n",
       "<style scoped>\n",
       "    .dataframe tbody tr th:only-of-type {\n",
       "        vertical-align: middle;\n",
       "    }\n",
       "\n",
       "    .dataframe tbody tr th {\n",
       "        vertical-align: top;\n",
       "    }\n",
       "\n",
       "    .dataframe thead th {\n",
       "        text-align: right;\n",
       "    }\n",
       "</style>\n",
       "<table border=\"1\" class=\"dataframe\">\n",
       "  <thead>\n",
       "    <tr style=\"text-align: right;\">\n",
       "      <th></th>\n",
       "      <th>usia</th>\n",
       "      <th>pekerjaan</th>\n",
       "      <th>status_perkawinan</th>\n",
       "      <th>pendidikan</th>\n",
       "      <th>gagal_bayar_sebelumnya</th>\n",
       "      <th>pinjaman_rumah</th>\n",
       "      <th>pinjaman_pribadi</th>\n",
       "      <th>jenis_kontak</th>\n",
       "      <th>bulan_kontak_terakhir</th>\n",
       "      <th>hari_kontak_terakhir</th>\n",
       "      <th>jumlah_kontak_kampanye_ini</th>\n",
       "      <th>hari_sejak_kontak_sebelumnya</th>\n",
       "      <th>jumlah_kontak_sebelumnya</th>\n",
       "      <th>hasil_kampanye_sebelumnya</th>\n",
       "      <th>tingkat_variasi_pekerjaan</th>\n",
       "      <th>indeks_harga_konsumen</th>\n",
       "      <th>indeks_kepercayaan_konsumen</th>\n",
       "      <th>suku_bunga_euribor_3bln</th>\n",
       "      <th>jumlah_pekerja</th>\n",
       "      <th>pulau</th>\n",
       "    </tr>\n",
       "  </thead>\n",
       "  <tbody>\n",
       "    <tr>\n",
       "      <th>0</th>\n",
       "      <td>35</td>\n",
       "      <td>penyedia jasa</td>\n",
       "      <td>menikah</td>\n",
       "      <td>SMA</td>\n",
       "      <td>no</td>\n",
       "      <td>yes</td>\n",
       "      <td>yes</td>\n",
       "      <td>cellular</td>\n",
       "      <td>jul</td>\n",
       "      <td>mon</td>\n",
       "      <td>1</td>\n",
       "      <td>999</td>\n",
       "      <td>0</td>\n",
       "      <td>nonexistent</td>\n",
       "      <td>1.4</td>\n",
       "      <td>93.918</td>\n",
       "      <td>-42.7</td>\n",
       "      <td>4.960</td>\n",
       "      <td>5228.1</td>\n",
       "      <td>Jawa</td>\n",
       "    </tr>\n",
       "    <tr>\n",
       "      <th>1</th>\n",
       "      <td>52</td>\n",
       "      <td>teknisi</td>\n",
       "      <td>lajang</td>\n",
       "      <td>Diploma</td>\n",
       "      <td>unknown</td>\n",
       "      <td>no</td>\n",
       "      <td>no</td>\n",
       "      <td>telephone</td>\n",
       "      <td>may</td>\n",
       "      <td>thu</td>\n",
       "      <td>4</td>\n",
       "      <td>999</td>\n",
       "      <td>0</td>\n",
       "      <td>nonexistent</td>\n",
       "      <td>1.1</td>\n",
       "      <td>93.994</td>\n",
       "      <td>-36.4</td>\n",
       "      <td>4.860</td>\n",
       "      <td>5191.0</td>\n",
       "      <td>Papua</td>\n",
       "    </tr>\n",
       "    <tr>\n",
       "      <th>2</th>\n",
       "      <td>37</td>\n",
       "      <td>pekerja kasar</td>\n",
       "      <td>menikah</td>\n",
       "      <td>SMP</td>\n",
       "      <td>unknown</td>\n",
       "      <td>yes</td>\n",
       "      <td>no</td>\n",
       "      <td>telephone</td>\n",
       "      <td>may</td>\n",
       "      <td>wed</td>\n",
       "      <td>3</td>\n",
       "      <td>999</td>\n",
       "      <td>0</td>\n",
       "      <td>nonexistent</td>\n",
       "      <td>1.1</td>\n",
       "      <td>93.994</td>\n",
       "      <td>-36.4</td>\n",
       "      <td>4.856</td>\n",
       "      <td>5191.0</td>\n",
       "      <td>Bali</td>\n",
       "    </tr>\n",
       "    <tr>\n",
       "      <th>3</th>\n",
       "      <td>51</td>\n",
       "      <td>pengangguran</td>\n",
       "      <td>menikah</td>\n",
       "      <td>Diploma</td>\n",
       "      <td>no</td>\n",
       "      <td>no</td>\n",
       "      <td>no</td>\n",
       "      <td>telephone</td>\n",
       "      <td>may</td>\n",
       "      <td>tue</td>\n",
       "      <td>3</td>\n",
       "      <td>999</td>\n",
       "      <td>0</td>\n",
       "      <td>nonexistent</td>\n",
       "      <td>1.1</td>\n",
       "      <td>93.994</td>\n",
       "      <td>-36.4</td>\n",
       "      <td>4.857</td>\n",
       "      <td>5191.0</td>\n",
       "      <td>Sumatera</td>\n",
       "    </tr>\n",
       "    <tr>\n",
       "      <th>4</th>\n",
       "      <td>45</td>\n",
       "      <td>teknisi</td>\n",
       "      <td>cerai</td>\n",
       "      <td>SMA</td>\n",
       "      <td>no</td>\n",
       "      <td>yes</td>\n",
       "      <td>no</td>\n",
       "      <td>cellular</td>\n",
       "      <td>may</td>\n",
       "      <td>thu</td>\n",
       "      <td>1</td>\n",
       "      <td>999</td>\n",
       "      <td>1</td>\n",
       "      <td>failure</td>\n",
       "      <td>-1.8</td>\n",
       "      <td>92.893</td>\n",
       "      <td>-46.2</td>\n",
       "      <td>1.327</td>\n",
       "      <td>5099.1</td>\n",
       "      <td>Sumatera</td>\n",
       "    </tr>\n",
       "  </tbody>\n",
       "</table>\n",
       "</div>"
      ],
      "text/plain": [
       "   usia      pekerjaan status_perkawinan pendidikan gagal_bayar_sebelumnya  \\\n",
       "0    35  penyedia jasa           menikah        SMA                     no   \n",
       "1    52        teknisi            lajang    Diploma                unknown   \n",
       "2    37  pekerja kasar           menikah        SMP                unknown   \n",
       "3    51   pengangguran           menikah    Diploma                     no   \n",
       "4    45        teknisi             cerai        SMA                     no   \n",
       "\n",
       "  pinjaman_rumah pinjaman_pribadi jenis_kontak bulan_kontak_terakhir  \\\n",
       "0            yes              yes     cellular                   jul   \n",
       "1             no               no    telephone                   may   \n",
       "2            yes               no    telephone                   may   \n",
       "3             no               no    telephone                   may   \n",
       "4            yes               no     cellular                   may   \n",
       "\n",
       "  hari_kontak_terakhir  jumlah_kontak_kampanye_ini  \\\n",
       "0                  mon                           1   \n",
       "1                  thu                           4   \n",
       "2                  wed                           3   \n",
       "3                  tue                           3   \n",
       "4                  thu                           1   \n",
       "\n",
       "   hari_sejak_kontak_sebelumnya  jumlah_kontak_sebelumnya  \\\n",
       "0                           999                         0   \n",
       "1                           999                         0   \n",
       "2                           999                         0   \n",
       "3                           999                         0   \n",
       "4                           999                         1   \n",
       "\n",
       "  hasil_kampanye_sebelumnya  tingkat_variasi_pekerjaan  indeks_harga_konsumen  \\\n",
       "0               nonexistent                        1.4                 93.918   \n",
       "1               nonexistent                        1.1                 93.994   \n",
       "2               nonexistent                        1.1                 93.994   \n",
       "3               nonexistent                        1.1                 93.994   \n",
       "4                   failure                       -1.8                 92.893   \n",
       "\n",
       "   indeks_kepercayaan_konsumen  suku_bunga_euribor_3bln  jumlah_pekerja  \\\n",
       "0                        -42.7                    4.960          5228.1   \n",
       "1                        -36.4                    4.860          5191.0   \n",
       "2                        -36.4                    4.856          5191.0   \n",
       "3                        -36.4                    4.857          5191.0   \n",
       "4                        -46.2                    1.327          5099.1   \n",
       "\n",
       "      pulau  \n",
       "0      Jawa  \n",
       "1     Papua  \n",
       "2      Bali  \n",
       "3  Sumatera  \n",
       "4  Sumatera  "
      ]
     },
     "execution_count": 6,
     "metadata": {},
     "output_type": "execute_result"
    }
   ],
   "source": [
    "test.head()"
   ]
  },
  {
   "cell_type": "code",
   "execution_count": 7,
   "id": "79abd1ee",
   "metadata": {},
   "outputs": [
    {
     "name": "stdout",
     "output_type": "stream",
     "text": [
      "Categorical columns: ['pekerjaan', 'status_perkawinan', 'pendidikan', 'gagal_bayar_sebelumnya', 'pinjaman_rumah', 'pinjaman_pribadi', 'jenis_kontak', 'bulan_kontak_terakhir', 'hari_kontak_terakhir', 'hasil_kampanye_sebelumnya', 'pulau']\n",
      "Jumlah kolom kategorikal: 11\n",
      "\n",
      "Numerical columns: ['usia', 'jumlah_kontak_kampanye_ini', 'hari_sejak_kontak_sebelumnya', 'jumlah_kontak_sebelumnya', 'tingkat_variasi_pekerjaan', 'indeks_harga_konsumen', 'indeks_kepercayaan_konsumen', 'suku_bunga_euribor_3bln', 'jumlah_pekerja']\n",
      "Jumlah kolom numerikal: 9\n"
     ]
    }
   ],
   "source": [
    "cat_col = test.select_dtypes(include=['object']).columns.tolist()\n",
    "num_col = test.select_dtypes(exclude=['object']).columns.tolist()\n",
    "\n",
    "print(\"Categorical columns:\", cat_col)\n",
    "print(f\"Jumlah kolom kategorikal: { len(cat_col) }\\n\")\n",
    "\n",
    "print(\"Numerical columns:\", num_col)\n",
    "print(\"Jumlah kolom numerikal:\", len(num_col))"
   ]
  },
  {
   "cell_type": "code",
   "execution_count": 8,
   "id": "1a8d3c3f",
   "metadata": {},
   "outputs": [
    {
     "name": "stdout",
     "output_type": "stream",
     "text": [
      "Unique Value pendidikan: ['Pendidikan Tinggi' 'SMA' 'Tidak Tamat SD' 'SMP' 'Diploma' 'SD' 'unknown'\n",
      " 'TIDAK SEKOLAH']\n",
      "Unique Value pekerjaan: ['sosial media specialis' 'teknisi' 'pekerja kasar' 'manajer'\n",
      " 'asisten rumah tangga' 'mahasiswa' 'penyedia jasa' 'pemilik bisnis'\n",
      " 'entrepreneur' 'pengangguran' 'pensiunan' 'unknown']\n",
      "Unique Value status_perkawinan: ['menikah' 'lajang' 'cerai' 'unknown']\n",
      "Unique Value bulan_kontak_terakhir: ['jul' 'nov' 'may' 'aug' 'oct' 'apr' 'jun' 'sep' 'mar' 'dec']\n",
      "Unique Value hari_kontak_terakhir: ['fri' 'thu' 'wed' 'tue' 'mon']\n",
      "Unique Value pulau: ['Papua' 'Sulawesi' 'Sumatera' 'Bali' 'NTT' 'Jawa' 'NTB' 'Kalimantan']\n"
     ]
    },
    {
     "data": {
      "image/png": "[encoded data removed]",
      "text/plain": [
       "<Figure size 500x300 with 1 Axes>"
      ]
     },
     "metadata": {},
     "output_type": "display_data"
    },
    {
     "data": {
      "image/png": "[encoded data removed]",
      "text/plain": [
       "<Figure size 500x300 with 1 Axes>"
      ]
     },
     "metadata": {},
     "output_type": "display_data"
    },
    {
     "data": {
      "image/png": "[encoded data removed]",
      "text/plain": [
       "<Figure size 500x300 with 1 Axes>"
      ]
     },
     "metadata": {},
     "output_type": "display_data"
    },
    {
     "data": {
      "image/png": "[encoded data removed]",
      "text/plain": [
       "<Figure size 500x300 with 1 Axes>"
      ]
     },
     "metadata": {},
     "output_type": "display_data"
    },
    {
     "data": {
      "image/png": "[encoded data removed]",
      "text/plain": [
       "<Figure size 500x300 with 1 Axes>"
      ]
     },
     "metadata": {},
     "output_type": "display_data"
    },
    {
     "data": {
      "image/png": "[encoded data removed]",
      "text/plain": [
       "<Figure size 500x300 with 1 Axes>"
      ]
     },
     "metadata": {},
     "output_type": "display_data"
    }
   ],
   "source": [
    "print(\"Unique Value pendidikan:\", train['pendidikan'].unique())\n",
    "print(\"Unique Value pekerjaan:\", train['pekerjaan'].unique())\n",
    "print(\"Unique Value status_perkawinan:\", train['status_perkawinan'].unique())\n",
    "print(\"Unique Value bulan_kontak_terakhir:\", train['bulan_kontak_terakhir'].unique())\n",
    "print(\"Unique Value hari_kontak_terakhir:\", train['hari_kontak_terakhir'].unique())\n",
    "print(\"Unique Value pulau:\", train['pulau'].unique())\n",
    "\n",
    "# Lookin the distribution of each categorical variable\n",
    "def plot_categorical_distribution(df, column):\n",
    "    plt.figure(figsize=(5, 3))\n",
    "    sns.countplot(data=df, x=column, order=df[column].value_counts().index)\n",
    "    plt.title(f'Distribution of {column}')\n",
    "    plt.xticks(rotation=90)\n",
    "    plt.show()\n",
    "\n",
    "plot_categorical_distribution(train, 'pendidikan')\n",
    "plot_categorical_distribution(train, 'pekerjaan')\n",
    "plot_categorical_distribution(train, 'status_perkawinan')\n",
    "plot_categorical_distribution(train, 'bulan_kontak_terakhir')\n",
    "plot_categorical_distribution(train, 'hari_kontak_terakhir')\n",
    "plot_categorical_distribution(train, 'pulau')"
   ]
  },
  {
   "cell_type": "markdown",
   "id": "e02a0f76",
   "metadata": {},
   "source": [
    "## Transforming values"
   ]
  },
  {
   "cell_type": "markdown",
   "id": "54409901",
   "metadata": {},
   "source": [
    "Merubah semua kategori unknown menjadi NaN"
   ]
  },
  {
   "cell_type": "code",
   "execution_count": 9,
   "id": "99b4319b",
   "metadata": {},
   "outputs": [],
   "source": [
    "# Replace unknown values with NaN\n",
    "train['pendidikan'] = train['pendidikan'].replace(['unknown'], np.nan)\n",
    "train['pekerjaan'] = train['pekerjaan'].replace(['unknown'], np.nan)\n",
    "train['status_perkawinan'] = train['status_perkawinan'].replace(['unknown'], np.nan)\n",
    "train['gagal_bayar_sebelumnya'] = train['gagal_bayar_sebelumnya'].replace(['unknown'], np.nan)\n",
    "train['pinjaman_rumah'] = train['pinjaman_rumah'].replace(['unknown'], np.nan)\n",
    "train['pinjaman_pribadi'] = train['pinjaman_pribadi'].replace(['unknown'], np.nan)\n",
    "train['pinjaman_pribadi'] = train['pinjaman_pribadi'].replace(['unknown'], np.nan)\n",
    "\n",
    "test['pendidikan'] = test['pendidikan'].replace(['unknown'], np.nan)\n",
    "test['pekerjaan'] = test['pekerjaan'].replace(['unknown'], np.nan)\n",
    "test['status_perkawinan'] = test['status_perkawinan'].replace(['unknown'], np.nan)\n",
    "test['gagal_bayar_sebelumnya'] = test['gagal_bayar_sebelumnya'].replace(['unknown'], np.nan)\n",
    "test['pinjaman_rumah'] = test['pinjaman_rumah'].replace(['unknown'], np.nan)\n",
    "test['pinjaman_pribadi'] = test['pinjaman_pribadi'].replace(['unknown'], np.nan)\n",
    "\n",
    "# Replace 999 with 0\n",
    "train['hari_sejak_kontak_sebelumnya'] = train['hari_sejak_kontak_sebelumnya'].replace([999], 0)\n",
    "test['hari_sejak_kontak_sebelumnya'] = test['hari_sejak_kontak_sebelumnya'].replace([999], 0)"
   ]
  },
  {
   "cell_type": "code",
   "execution_count": 10,
   "id": "bd983dc8",
   "metadata": {},
   "outputs": [
    {
     "name": "stdout",
     "output_type": "stream",
     "text": [
      "Missing values in training dataset:\n",
      "usia                               0\n",
      "pekerjaan                        193\n",
      "status_perkawinan                 47\n",
      "pendidikan                       992\n",
      "gagal_bayar_sebelumnya          4745\n",
      "pinjaman_rumah                   579\n",
      "pinjaman_pribadi                 579\n",
      "jenis_kontak                       0\n",
      "bulan_kontak_terakhir              0\n",
      "hari_kontak_terakhir               0\n",
      "jumlah_kontak_kampanye_ini         0\n",
      "hari_sejak_kontak_sebelumnya       0\n",
      "jumlah_kontak_sebelumnya           0\n",
      "hasil_kampanye_sebelumnya          0\n",
      "tingkat_variasi_pekerjaan          0\n",
      "indeks_harga_konsumen              0\n",
      "indeks_kepercayaan_konsumen        0\n",
      "suku_bunga_euribor_3bln            0\n",
      "jumlah_pekerja                     0\n",
      "pulau                              0\n",
      "berlangganan_deposito              0\n",
      "dtype: int64\n",
      "Duplicate rows in training dataset:\n",
      "78\n"
     ]
    }
   ],
   "source": [
    "print(\"Missing values in training dataset:\")\n",
    "print(train.isna().sum())\n",
    "print(\"Duplicate rows in training dataset:\")\n",
    "print(train.duplicated().sum())"
   ]
  },
  {
   "cell_type": "code",
   "execution_count": 11,
   "id": "e27cedc2",
   "metadata": {},
   "outputs": [
    {
     "name": "stdout",
     "output_type": "stream",
     "text": [
      "\n",
      "Missing values in validation dataset:\n",
      "usia                               0\n",
      "pekerjaan                         49\n",
      "status_perkawinan                  9\n",
      "pendidikan                       218\n",
      "gagal_bayar_sebelumnya          1207\n",
      "pinjaman_rumah                   125\n",
      "pinjaman_pribadi                 125\n",
      "jenis_kontak                       0\n",
      "bulan_kontak_terakhir              0\n",
      "hari_kontak_terakhir               0\n",
      "jumlah_kontak_kampanye_ini         0\n",
      "hari_sejak_kontak_sebelumnya       0\n",
      "jumlah_kontak_sebelumnya           0\n",
      "hasil_kampanye_sebelumnya          0\n",
      "tingkat_variasi_pekerjaan          0\n",
      "indeks_harga_konsumen              0\n",
      "indeks_kepercayaan_konsumen        0\n",
      "suku_bunga_euribor_3bln            0\n",
      "jumlah_pekerja                     0\n",
      "pulau                              0\n",
      "dtype: int64\n",
      "Duplicate rows in validation dataset:\n",
      "7\n"
     ]
    }
   ],
   "source": [
    "print(\"\\nMissing values in validation dataset:\")\n",
    "print(test.isna().sum())\n",
    "print(\"Duplicate rows in validation dataset:\")\n",
    "print(test.duplicated().sum())"
   ]
  },
  {
   "cell_type": "markdown",
   "id": "87715aec",
   "metadata": {},
   "source": [
    "# Preprocessing"
   ]
  },
  {
   "cell_type": "code",
   "execution_count": 12,
   "id": "4b0013ca",
   "metadata": {},
   "outputs": [
    {
     "name": "stdout",
     "output_type": "stream",
     "text": [
      "Duplicate rows in training dataset after removal:\n",
      "0\n",
      "Duplicate rows in validation dataset after removal:\n",
      "7\n"
     ]
    }
   ],
   "source": [
    "train.drop_duplicates(inplace=True)\n",
    "train.reset_index(drop=True, inplace=True)\n",
    "print(\"Duplicate rows in training dataset after removal:\")\n",
    "print(train.duplicated().sum())\n",
    "print(\"Duplicate rows in validation dataset after removal:\")\n",
    "print(test.duplicated().sum())"
   ]
  },
  {
   "cell_type": "markdown",
   "id": "ba625b4d",
   "metadata": {},
   "source": [
    "Outliers checking"
   ]
  },
  {
   "cell_type": "code",
   "execution_count": 13,
   "id": "c0894c69",
   "metadata": {},
   "outputs": [
    {
     "name": "stdout",
     "output_type": "stream",
     "text": [
      "Numerical columns in training dataset: Index(['usia', 'jumlah_kontak_kampanye_ini', 'hari_sejak_kontak_sebelumnya',\n",
      "       'jumlah_kontak_sebelumnya', 'tingkat_variasi_pekerjaan',\n",
      "       'indeks_harga_konsumen', 'indeks_kepercayaan_konsumen',\n",
      "       'suku_bunga_euribor_3bln', 'jumlah_pekerja', 'berlangganan_deposito'],\n",
      "      dtype='object')\n"
     ]
    }
   ],
   "source": [
    "# Check for numerical columns \n",
    "num_cols = train.select_dtypes(include=['int64', 'float64']).columns\n",
    "\n",
    "print(\"Numerical columns in training dataset:\", num_cols)"
   ]
  },
  {
   "cell_type": "code",
   "execution_count": 14,
   "id": "5f61f5b9",
   "metadata": {},
   "outputs": [
    {
     "data": {
      "text/plain": [
       "<Axes: ylabel='jumlah_pekerja'>"
      ]
     },
     "execution_count": 14,
     "metadata": {},
     "output_type": "execute_result"
    },
    {
     "data": {
      "image/png": "[encoded data removed]",
      "text/plain": [
       "<Figure size 640x480 with 1 Axes>"
      ]
     },
     "metadata": {},
     "output_type": "display_data"
    }
   ],
   "source": [
    "sns.boxplot(train['jumlah_pekerja'])"
   ]
  },
  {
   "cell_type": "code",
   "execution_count": 15,
   "id": "a1af6845",
   "metadata": {},
   "outputs": [],
   "source": [
    "# Threshold atas\n",
    "def replace_values_above_threshold(data_train, column, threshold):\n",
    "    sns.boxplot(data_train[column])\n",
    "    plt.title(f'Original Box Plot of {column}')\n",
    "    plt.show()\n",
    "\n",
    "    above_threshold = data_train[column] > threshold\n",
    "    data_train.loc[above_threshold, column] = threshold\n",
    "\n",
    "    sns.boxplot(data_train[column])\n",
    "    plt.title(f'Box Plot with Values Replaced above {threshold}')\n",
    "    plt.show()\n",
    "\n",
    "    return train\n",
    "\n",
    "# train = replace_values_above_threshold(train, 'usia', 68)\n",
    "# train = replace_values_above_threshold(train, 'jumlah_kontak_kampanye_ini', 6)\n",
    "# train = replace_values_above_threshold(train, 'indeks_kepercayaan_konsumen', -30)"
   ]
  },
  {
   "cell_type": "markdown",
   "id": "3154c52e",
   "metadata": {},
   "source": [
    "## Encoding"
   ]
  },
  {
   "cell_type": "code",
   "execution_count": 16,
   "id": "a2f36401",
   "metadata": {},
   "outputs": [],
   "source": [
    "le = LabelEncoder()\n",
    "\n",
    "# One-hot encoding for categorical variables\n",
    "def one_hot_encode(df, columns):\n",
    "    return pd.get_dummies(df, columns=columns, drop_first=True)\n",
    "\n",
    "# Mapping Ordinal Columns\n",
    "pendidikan_mapping = {\n",
    "    'TIDAK SEKOLAH': 0,\n",
    "    'Tidak Tamat SD': 1,\n",
    "    'SD': 2,\n",
    "    'SMP': 3,\n",
    "    'SMA': 4,\n",
    "    'Diploma': 5,\n",
    "    'Pendidikan Tinggi': 6,\n",
    "}\n",
    "\n",
    "bulan_kontak_mapping = {\n",
    "    'jan': 1, 'feb': 2, 'mar': 3, 'apr': 4, 'may': 5, 'jun': 6,\n",
    "    'jul': 7, 'aug': 8, 'sep': 9, 'oct': 10, 'nov': 11, 'dec': 12\n",
    "}\n",
    "\n",
    "hasil_mapping = {\n",
    "    'failure': -1,\n",
    "    'nonexistent': 0,\n",
    "    'success': 1,\n",
    "}\n",
    "\n",
    "hari_kontak_mapping = {\n",
    "    'mon': 1, 'tue': 2, 'wed': 3, 'thu': 4, 'fri': 5\n",
    "}\n",
    "\n",
    "binary_mapping = {\n",
    "    'yes': 1,\n",
    "    'no': 0\n",
    "}\n",
    "\n",
    "# train['pendidikan'] = train['pendidikan'].map(pendidikan_mapping)\n",
    "# test['pendidikan'] = test['pendidikan'].map(pendidikan_mapping)\n",
    "\n",
    "# train['bulan_kontak_terakhir'] = train['bulan_kontak_terakhir'].map(bulan_kontak_mapping)\n",
    "# test['bulan_kontak_terakhir'] = test['bulan_kontak_terakhir'].map(bulan_kontak_mapping)\n",
    "\n",
    "# train['hasil_kampanye_sebelumnya'] = train['hasil_kampanye_sebelumnya'].map(hasil_mapping)\n",
    "# test['hasil_kampanye_sebelumnya'] = test['hasil_kampanye_sebelumnya'].map(hasil_mapping)\n",
    "\n",
    "# train['hari_kontak_terakhir'] = train['hari_kontak_terakhir'].map(hari_kontak_mapping)\n",
    "# test['hari_kontak_terakhir'] = test['hari_kontak_terakhir'].map(hari_kontak_mapping)\n",
    "\n",
    "# train[['pinjaman_rumah', 'pinjaman_pribadi', 'gagal_bayar_sebelumnya']] = train[['pinjaman_rumah', 'pinjaman_pribadi', 'gagal_bayar_sebelumnya']].replace(binary_mapping)\n",
    "# test[['pinjaman_rumah', 'pinjaman_pribadi', 'gagal_bayar_sebelumnya']] = test[['pinjaman_rumah', 'pinjaman_pribadi', 'gagal_bayar_sebelumnya']].replace(binary_mapping)\n",
    "\n",
    "# train = one_hot_encode(train, ['pulau', 'jenis_kontak', 'status_perkawinan'])\n",
    "# test = one_hot_encode(test, ['pulau', 'jenis_kontak', 'status_perkawinan'])\n",
    "# train = one_hot_encode(train, ['pekerjaan'])\n",
    "# test = one_hot_encode(test, ['pekerjaan'])\n",
    "\n",
    "for col in cat_col:\n",
    "    if col in train.columns:\n",
    "        train[col] = le.fit_transform(train[col])\n",
    "    if col in test.columns:\n",
    "        test[col] = le.transform(test[col])\n",
    "\n",
    "# train = train.astype('float32')\n",
    "# test = test.astype('float32')"
   ]
  },
  {
   "cell_type": "code",
   "execution_count": 17,
   "id": "00e046a2",
   "metadata": {},
   "outputs": [
    {
     "name": "stdout",
     "output_type": "stream",
     "text": [
      "<class 'pandas.core.frame.DataFrame'>\n",
      "RangeIndex: 22838 entries, 0 to 22837\n",
      "Data columns (total 21 columns):\n",
      " #   Column                        Non-Null Count  Dtype  \n",
      "---  ------                        --------------  -----  \n",
      " 0   usia                          22838 non-null  int64  \n",
      " 1   pekerjaan                     22838 non-null  int32  \n",
      " 2   status_perkawinan             22838 non-null  int32  \n",
      " 3   pendidikan                    22838 non-null  int32  \n",
      " 4   gagal_bayar_sebelumnya        22838 non-null  int32  \n",
      " 5   pinjaman_rumah                22838 non-null  int32  \n",
      " 6   pinjaman_pribadi              22838 non-null  int32  \n",
      " 7   jenis_kontak                  22838 non-null  int32  \n",
      " 8   bulan_kontak_terakhir         22838 non-null  int32  \n",
      " 9   hari_kontak_terakhir          22838 non-null  int32  \n",
      " 10  jumlah_kontak_kampanye_ini    22838 non-null  int64  \n",
      " 11  hari_sejak_kontak_sebelumnya  22838 non-null  int64  \n",
      " 12  jumlah_kontak_sebelumnya      22838 non-null  int64  \n",
      " 13  hasil_kampanye_sebelumnya     22838 non-null  int32  \n",
      " 14  tingkat_variasi_pekerjaan     22838 non-null  float64\n",
      " 15  indeks_harga_konsumen         22838 non-null  float64\n",
      " 16  indeks_kepercayaan_konsumen   22838 non-null  float64\n",
      " 17  suku_bunga_euribor_3bln       22838 non-null  float64\n",
      " 18  jumlah_pekerja                22838 non-null  float64\n",
      " 19  pulau                         22838 non-null  int32  \n",
      " 20  berlangganan_deposito         22838 non-null  int64  \n",
      "dtypes: float64(5), int32(11), int64(5)\n",
      "memory usage: 2.7 MB\n"
     ]
    }
   ],
   "source": [
    "train.info()"
   ]
  },
  {
   "cell_type": "markdown",
   "id": "df5b7c9d",
   "metadata": {},
   "source": [
    "## Handling missing values"
   ]
  },
  {
   "cell_type": "markdown",
   "id": "9721c2f2",
   "metadata": {},
   "source": [
    "### Dropping"
   ]
  },
  {
   "cell_type": "code",
   "execution_count": 18,
   "id": "1954521a",
   "metadata": {},
   "outputs": [
    {
     "name": "stdout",
     "output_type": "stream",
     "text": [
      "\n",
      "Training dataset after dropping rows with missing values:\n",
      "Ukuran dataset sebelum drop: (22838, 21) dan ukuran dataset setelah drop: (22838, 21)\n",
      "\n",
      "Validation dataset after dropping rows with missing values:\n",
      "Ukuran dataset sebelum drop: (5729, 20) dan ukuran dataset setelah drop: (5729, 20)\n"
     ]
    }
   ],
   "source": [
    "train_dropped = train.dropna(axis=0, how='any')\n",
    "print(\"\\nTraining dataset after dropping rows with missing values:\")\n",
    "print(f'Ukuran dataset sebelum drop: {train.shape} dan ukuran dataset setelah drop: {train_dropped.shape}')\n",
    "\n",
    "test_dropped = test.dropna(axis=0, how='any')\n",
    "print(\"\\nValidation dataset after dropping rows with missing values:\")\n",
    "print(f'Ukuran dataset sebelum drop: {test.shape} dan ukuran dataset setelah drop: {test_dropped.shape}')"
   ]
  },
  {
   "cell_type": "markdown",
   "id": "eb162d05",
   "metadata": {},
   "source": [
    "### MICE/KNN"
   ]
  },
  {
   "cell_type": "code",
   "execution_count": 19,
   "id": "22cc4755",
   "metadata": {},
   "outputs": [],
   "source": [
    "feature_cols = train_dropped.drop(['berlangganan_deposito'], axis=1).columns.tolist()"
   ]
  },
  {
   "cell_type": "code",
   "execution_count": 20,
   "id": "52930694",
   "metadata": {},
   "outputs": [
    {
     "name": "stdout",
     "output_type": "stream",
     "text": [
      "Training dataset after imputation: (22838, 21)\n",
      "Test dataset after imputation: (5729, 20)\n"
     ]
    }
   ],
   "source": [
    "# Initialize imputers\n",
    "mice = IterativeImputer(random_state=42)\n",
    "knn = KNNImputer(n_neighbors=5, weights='uniform', metric='nan_euclidean')\n",
    "\n",
    "# Fit MICE imputer on training data and transform both datasets\n",
    "train_imputed = mice.fit_transform(train[feature_cols])\n",
    "test_imputed = mice.transform(test)\n",
    "\n",
    "# Convert back to DataFrame with original column names\n",
    "train_imputed = pd.DataFrame(train_imputed, columns=train.drop(columns=['berlangganan_deposito']).columns)\n",
    "train_imputed['berlangganan_deposito'] = train['berlangganan_deposito'].values\n",
    "test_imputed = pd.DataFrame(test_imputed, columns=test.columns)\n",
    "\n",
    "# Print shape of imputed datasets\n",
    "print(f\"Training dataset after imputation: {train_imputed.shape}\")\n",
    "print(f\"Test dataset after imputation: {test_imputed.shape}\")"
   ]
  },
  {
   "cell_type": "markdown",
   "id": "a8b15878",
   "metadata": {},
   "source": [
    "# Splitting"
   ]
  },
  {
   "cell_type": "code",
   "execution_count": 21,
   "id": "bd974fd6",
   "metadata": {},
   "outputs": [],
   "source": [
    "X = train.drop(columns=['berlangganan_deposito'])\n",
    "y = train['berlangganan_deposito']"
   ]
  },
  {
   "cell_type": "code",
   "execution_count": 22,
   "id": "bd84852e",
   "metadata": {},
   "outputs": [],
   "source": [
    "poly = PolynomialFeatures(degree=2, interaction_only=True, include_bias=False)\n",
    "def create_polynomial_features(df, poly):\n",
    "    poly_features = poly.fit_transform(df.select_dtypes(include=[np.number]))\n",
    "    poly_feature_names = poly.get_feature_names_out(df.select_dtypes(include=[np.number]).columns)\n",
    "    poly_df = pd.DataFrame(poly_features, columns=poly_feature_names)\n",
    "    return poly_df\n",
    " \n",
    "X_poly = poly.fit_transform(X.select_dtypes(include=[np.number]))\n",
    "X_poly = pd.DataFrame(X_poly, columns=poly.get_feature_names_out(X.select_dtypes(include=[np.number]).columns))\n",
    "X_poly = pd.concat([X.drop(columns=X.select_dtypes(include=[np.number]).columns), X_poly], axis=1)\n",
    "\n",
    "test_poly = poly.transform(test_imputed.select_dtypes(include=[np.number]))\n",
    "test_poly = pd.DataFrame(test_poly, columns=poly.get_feature_names_out(test_imputed.select_dtypes(include=[np.number]).columns))\n",
    "test_poly = pd.concat([test_imputed.drop(columns=test_imputed.select_dtypes(include=[np.number]).columns), test_poly], axis=1)"
   ]
  },
  {
   "cell_type": "code",
   "execution_count": 23,
   "id": "816ec18b",
   "metadata": {},
   "outputs": [],
   "source": [
    "X_train, X_val, y_train, y_val = train_test_split(X_poly, y, test_size=0.25, stratify=y, random_state=42, shuffle=True) "
   ]
  },
  {
   "cell_type": "markdown",
   "id": "c37cd192",
   "metadata": {},
   "source": [
    "# Scaling"
   ]
  },
  {
   "cell_type": "code",
   "execution_count": 24,
   "id": "c2a95ade",
   "metadata": {},
   "outputs": [],
   "source": [
    "minmax = MinMaxScaler(feature_range=(0, 1))\n",
    "robust = RobustScaler()\n",
    "X_train_scaled = robust.fit_transform(X_train)\n",
    "X_val_scaled = robust.transform(X_val)\n",
    "test_scaled = robust.transform(test_poly)\n",
    "\n",
    "X_train_scaled = pd.DataFrame(X_train_scaled, columns=X_train.columns)\n",
    "X_val_scaled = pd.DataFrame(X_val_scaled, columns=X_val.columns)\n",
    "test_scaled = pd.DataFrame(test_scaled, columns=test_poly.columns)\n",
    "\n",
    "X_train_scaled[cat_col] = X_train_scaled[cat_col].astype('int32')\n",
    "X_val_scaled[cat_col] = X_val_scaled[cat_col].astype('int32')\n",
    "test_scaled[cat_col] = test_scaled[cat_col].astype('int32')\n"
   ]
  },
  {
   "cell_type": "markdown",
   "id": "984507c8",
   "metadata": {},
   "source": [
    "# Resampling"
   ]
  },
  {
   "cell_type": "markdown",
   "id": "91bc0442",
   "metadata": {},
   "source": [
    "## Over under"
   ]
  },
  {
   "cell_type": "code",
   "execution_count": 25,
   "id": "c1e0abe2",
   "metadata": {},
   "outputs": [],
   "source": [
    "# # OVER UNDER\n",
    "\n",
    "# from imblearn.under_sampling import RandomUnderSampler\n",
    "# from imblearn.over_sampling import RandomOverSampler\n",
    "\n",
    "# # Inisialisasi undersampler untuk kelas 0\n",
    "# undersampler = RandomUnderSampler(sampling_strategy={0: 5000}, random_state=42)\n",
    "# # Inisialisasi oversampler untuk kelas 1 dan 2\n",
    "# oversampler = RandomOverSampler(sampling_strategy={1: 2000, 0: 5000}, random_state=42)\n",
    "\n",
    "# X_train_resampled, y_train_resampled = undersampler.fit_resample(X_train, y_train)\n",
    "\n",
    "# X_train_final, y_train_final = oversampler.fit_resample(X_train_resampled, y_train_resampled)\n",
    "\n",
    "# from collections import Counter\n",
    "# print(\"Distribusi kelas setelah resampling:\", Counter(y_train_final['coppaRisk']))\n",
    "\n",
    "# X_train = X_train_final\n",
    "# y_train = y_train_final"
   ]
  },
  {
   "cell_type": "markdown",
   "id": "d912a4e6",
   "metadata": {},
   "source": [
    "## SMOTE"
   ]
  },
  {
   "cell_type": "code",
   "execution_count": 26,
   "id": "fe67b791",
   "metadata": {},
   "outputs": [],
   "source": [
    "# smote = SMOTE(random_state=42, sampling_strategy='auto')\n",
    "# X_train_resampled, y_train_resampled = smote.fit_resample(X_train_scaled, y_train)\n",
    "# X_val_resampled, y_val_resampled = smote.fit_resample(X_val_scaled, y_val)\n",
    "# print(\"Distribusi kelas setelah SMOTE:\")\n",
    "# print(Counter(y_train_resampled))\n",
    "# X_train_resampled = pd.DataFrame(X_train_resampled, columns=X_train.columns)\n",
    "# X_val_resampled = pd.DataFrame(X_val_resampled, columns=X_val.columns)"
   ]
  },
  {
   "cell_type": "markdown",
   "id": "21ee4fee",
   "metadata": {},
   "source": [
    "# Modelling"
   ]
  },
  {
   "cell_type": "markdown",
   "id": "616a8106",
   "metadata": {},
   "source": [
    "## Training"
   ]
  },
  {
   "cell_type": "code",
   "execution_count": 27,
   "id": "edf97d44",
   "metadata": {},
   "outputs": [],
   "source": [
    "# # Use elasticnet with saga solver and specify l1_ratio\n",
    "# # For elasticnet, we need to specify both solver='saga' and l1_ratio parameter\n",
    "# model3 = LogisticRegression(penalty='elasticnet', solver='saga', l1_ratio=0.5, max_iter=1000, random_state=42)\n",
    "# model3.fit(X_train_scaled, y_train)"
   ]
  },
  {
   "cell_type": "code",
   "execution_count": 28,
   "id": "181ec5c0",
   "metadata": {},
   "outputs": [
    {
     "data": {
      "text/plain": [
       "<catboost.core.CatBoostClassifier at 0x2580ac2d0f0>"
      ]
     },
     "execution_count": 28,
     "metadata": {},
     "output_type": "execute_result"
    }
   ],
   "source": [
    "model2 = CatBoostClassifier(eval_metric='AUC', cat_features=cat_col, random_seed=42, verbose=0)\n",
    "model2.fit(X_train_scaled, y_train, eval_set=(X_val_scaled, y_val))"
   ]
  },
  {
   "cell_type": "code",
   "execution_count": 29,
   "id": "a755bb3a",
   "metadata": {},
   "outputs": [],
   "source": [
    "# # Train the model\n",
    "# model1 = XGBClassifier(objective=\"binary:logistic\", eval_metric=\"auc\", loss='logloss', random_state=42, use_label_encoder=False, verbosity=0)\n",
    "# model1.fit(X_train_scaled, y_train, eval_set=[(X_val_scaled, y_val)], verbose=True)"
   ]
  },
  {
   "cell_type": "code",
   "execution_count": 30,
   "id": "ebb34833",
   "metadata": {},
   "outputs": [],
   "source": [
    "# from xgboost import plot_importance\n",
    "# plt.figure(figsize=(10, 8))\n",
    "# plot_importance(model1, max_num_features=20, importance_type='weight', title='Feature Importance')\n",
    "# plt.show()"
   ]
  },
  {
   "cell_type": "markdown",
   "id": "e2ec7407",
   "metadata": {},
   "source": [
    "## Evaluating"
   ]
  },
  {
   "cell_type": "code",
   "execution_count": 31,
   "id": "1d6c2d57",
   "metadata": {},
   "outputs": [
    {
     "name": "stdout",
     "output_type": "stream",
     "text": [
      "Accuracy: 0.9028\n",
      "ROC AUC Score: 0.7927\n",
      "\n",
      "Classification Report:\n",
      "              precision    recall  f1-score   support\n",
      "\n",
      "           0       0.91      0.99      0.95      5057\n",
      "           1       0.71      0.25      0.37       653\n",
      "\n",
      "    accuracy                           0.90      5710\n",
      "   macro avg       0.81      0.62      0.66      5710\n",
      "weighted avg       0.89      0.90      0.88      5710\n",
      "\n",
      "\n",
      "Confusion Matrix:\n",
      "[[4989   68]\n",
      " [ 487  166]]\n"
     ]
    },
    {
     "data": {
      "image/png": "[encoded data removed]",
      "text/plain": [
       "<Figure size 800x600 with 1 Axes>"
      ]
     },
     "metadata": {},
     "output_type": "display_data"
    }
   ],
   "source": [
    "# Make predictions\n",
    "y_pred = model2.predict(X_val_scaled)\n",
    "y_pred_proba = model2.predict_proba(X_val_scaled)[:,1]\n",
    "\n",
    "# Evaluate the model\n",
    "accuracy = accuracy_score(y_val, y_pred)\n",
    "roc_auc = roc_auc_score(y_val, y_pred_proba)\n",
    "conf_matrix = confusion_matrix(y_val, y_pred)\n",
    "\n",
    "print(f\"Accuracy: {accuracy:.4f}\")\n",
    "print(f\"ROC AUC Score: {roc_auc:.4f}\")\n",
    "print(\"\\nClassification Report:\")\n",
    "print(classification_report(y_val, y_pred))\n",
    "print(\"\\nConfusion Matrix:\")\n",
    "print(conf_matrix)\n",
    "\n",
    "cm = confusion_matrix(y_val, y_pred)\n",
    "plt.figure(figsize=(8, 6))\n",
    "sns.heatmap(cm, annot=True, fmt='d', cmap='Blues', cbar=False, xticklabels=['False', 'True'], yticklabels=['False', 'True'])\n",
    "plt.title('Confusion Matrix')\n",
    "plt.xlabel('Predicted')\n",
    "plt.ylabel('Actual')\n",
    "plt.show()"
   ]
  },
  {
   "cell_type": "code",
   "execution_count": 32,
   "id": "a14992c8",
   "metadata": {},
   "outputs": [],
   "source": [
    "# # Make predictions\n",
    "# y_pred = model1.predict(X_val_scaled)   \n",
    "# y_pred_proba = model1.predict_proba(X_val_scaled)[:,1]\n",
    "\n",
    "# # Evaluate the model\n",
    "# accuracy = accuracy_score(y_val, y_pred)\n",
    "# roc_auc = roc_auc_score(y_val, y_pred_proba)\n",
    "# conf_matrix = confusion_matrix(y_val, y_pred)\n",
    "\n",
    "# print(f\"Accuracy: {accuracy:.4f}\")\n",
    "# print(f\"ROC AUC Score: {roc_auc:.4f}\")\n",
    "# print(\"\\nClassification Report:\")\n",
    "# print(classification_report(y_val, y_pred))\n",
    "# print(\"\\nConfusion Matrix:\")\n",
    "# print(conf_matrix)\n",
    "\n",
    "# cm = confusion_matrix(y_val, y_pred)\n",
    "# plt.figure(figsize=(8, 6))\n",
    "# sns.heatmap(cm, annot=True, fmt='d', cmap='Blues', cbar=False, xticklabels=['False', 'True'], yticklabels=['False', 'True'])"
   ]
  },
  {
   "cell_type": "code",
   "execution_count": 33,
   "id": "41d5d86a",
   "metadata": {},
   "outputs": [],
   "source": [
    "# # Make predictions\n",
    "# y_pred = model3.predict(X_val_scaled)\n",
    "# y_pred_proba = model3.predict_proba(X_val_scaled)[:,1]\n",
    "\n",
    "# # Evaluate the model\n",
    "# accuracy = accuracy_score(y_val, y_pred)\n",
    "# roc_auc = roc_auc_score(y_val, y_pred_proba)\n",
    "# conf_matrix = confusion_matrix(y_val, y_pred)\n",
    "\n",
    "# print(f\"Accuracy: {accuracy:.4f}\")\n",
    "# print(f\"ROC AUC Score: {roc_auc:.4f}\")\n",
    "# print(\"\\nClassification Report:\")\n",
    "# print(classification_report(y_val, y_pred))\n",
    "# print(\"\\nConfusion Matrix:\")\n",
    "# print(conf_matrix)\n",
    "\n",
    "# cm = confusion_matrix(y_val, y_pred)\n",
    "# plt.figure(figsize=(8, 6))\n",
    "# sns.heatmap(cm, annot=True, fmt='d', cmap='Blues', cbar=False, xticklabels=['False', 'True'], yticklabels=['False', 'True'])\n"
   ]
  },
  {
   "cell_type": "markdown",
   "id": "5dc01ae8",
   "metadata": {},
   "source": [
    "# Optimizing"
   ]
  },
  {
   "cell_type": "code",
   "execution_count": 34,
   "id": "28a63104",
   "metadata": {},
   "outputs": [],
   "source": [
    "# # Feature importance\n",
    "# explainer = shap.Explainer(model1)\n",
    "# shap_values = explainer.shap_values(X_val_scaled)\n",
    "# shap.summary_plot(shap_values, X_val_scaled, plot_type=\"bar\", max_display=20)\n",
    "\n",
    "# plot_importance(model1, max_num_features=20, importance_type='weight', title='Feature Importance')\n"
   ]
  },
  {
   "cell_type": "markdown",
   "id": "b17e3fc3",
   "metadata": {},
   "source": [
    "## Optuna"
   ]
  },
  {
   "cell_type": "code",
   "execution_count": 35,
   "id": "94fceeca",
   "metadata": {},
   "outputs": [
    {
     "name": "stderr",
     "output_type": "stream",
     "text": [
      "[I 2025-06-04 23:44:35,059] A new study created in memory with name: no-name-90ca0073-e00c-4ac2-88c9-77f16bbbd9f1\n",
      "[I 2025-06-04 23:44:48,381] Trial 0 finished with value: 0.7906066856215862 and parameters: {'learning_rate': 0.01635514093747794, 'depth': 9, 'l2_leaf_reg': 2.6616557434131827, 'random_strength': 2.8915849284911204, 'iterations': 859, 'border_count': 121, 'min_data_in_leaf': 24, 'bootstrap_type': 'Bernoulli', 'leaf_estimation_iterations': 8, 'boosting_type': 'Plain', 'grow_policy': 'Lossguide', 'subsample': 0.10457162706057715}. Best is trial 0 with value: 0.7906066856215862.\n",
      "[I 2025-06-04 23:44:52,912] Trial 1 finished with value: 0.7830063463347849 and parameters: {'learning_rate': 0.1289211025704209, 'depth': 10, 'l2_leaf_reg': 3.3500895137072684, 'random_strength': 8.915803694084005, 'iterations': 294, 'border_count': 72, 'min_data_in_leaf': 97, 'bootstrap_type': 'Bayesian', 'leaf_estimation_iterations': 3, 'boosting_type': 'Plain', 'grow_policy': 'SymmetricTree', 'bagging_temperature': 6.227807856837559}. Best is trial 0 with value: 0.7906066856215862.\n",
      "[I 2025-06-04 23:44:56,417] Trial 2 finished with value: 0.7883168631051646 and parameters: {'learning_rate': 0.2726763904118134, 'depth': 5, 'l2_leaf_reg': 5.2917541710495986, 'random_strength': 5.819640127177522, 'iterations': 685, 'border_count': 136, 'min_data_in_leaf': 58, 'bootstrap_type': 'Bayesian', 'leaf_estimation_iterations': 4, 'boosting_type': 'Ordered', 'bagging_temperature': 3.4872814221098403}. Best is trial 0 with value: 0.7906066856215862.\n",
      "[I 2025-06-04 23:45:12,858] Trial 3 finished with value: 0.7927104212589042 and parameters: {'learning_rate': 0.020307952088066173, 'depth': 6, 'l2_leaf_reg': 8.807695282338784, 'random_strength': 4.392656545148614, 'iterations': 787, 'border_count': 62, 'min_data_in_leaf': 49, 'bootstrap_type': 'No', 'leaf_estimation_iterations': 3, 'boosting_type': 'Ordered'}. Best is trial 3 with value: 0.7927104212589042.\n",
      "[I 2025-06-04 23:45:13,840] Trial 4 finished with value: 0.7898765709502786 and parameters: {'learning_rate': 0.18019618565029885, 'depth': 5, 'l2_leaf_reg': 3.8018122772176755, 'random_strength': 8.933818803059156, 'iterations': 205, 'border_count': 73, 'min_data_in_leaf': 33, 'bootstrap_type': 'No', 'leaf_estimation_iterations': 4, 'boosting_type': 'Plain', 'grow_policy': 'SymmetricTree'}. Best is trial 3 with value: 0.7927104212589042.\n",
      "[I 2025-06-04 23:45:18,252] Trial 5 finished with value: 0.7923556600239657 and parameters: {'learning_rate': 0.14170149333291274, 'depth': 5, 'l2_leaf_reg': 9.112362056890124, 'random_strength': 1.0732462766452686, 'iterations': 251, 'border_count': 157, 'min_data_in_leaf': 57, 'bootstrap_type': 'Bernoulli', 'leaf_estimation_iterations': 10, 'boosting_type': 'Ordered', 'subsample': 0.17346386677724382}. Best is trial 3 with value: 0.7927104212589042.\n",
      "[I 2025-06-04 23:45:24,428] Trial 6 finished with value: 0.7918576618584886 and parameters: {'learning_rate': 0.08292197554638166, 'depth': 5, 'l2_leaf_reg': 6.520896417024874, 'random_strength': 8.418953134266037, 'iterations': 398, 'border_count': 145, 'min_data_in_leaf': 11, 'bootstrap_type': 'Bernoulli', 'leaf_estimation_iterations': 6, 'boosting_type': 'Ordered', 'subsample': 0.14757033292647043}. Best is trial 3 with value: 0.7927104212589042.\n",
      "[I 2025-06-04 23:45:27,811] Trial 7 finished with value: 0.7862609740535234 and parameters: {'learning_rate': 0.2807606889808152, 'depth': 10, 'l2_leaf_reg': 6.524994049914211, 'random_strength': 7.1925146637508455, 'iterations': 986, 'border_count': 133, 'min_data_in_leaf': 76, 'bootstrap_type': 'Bayesian', 'leaf_estimation_iterations': 4, 'boosting_type': 'Plain', 'grow_policy': 'Depthwise', 'bagging_temperature': 0.5481699246243898}. Best is trial 3 with value: 0.7927104212589042.\n",
      "[I 2025-06-04 23:46:49,460] Trial 8 finished with value: 0.7902137682487029 and parameters: {'learning_rate': 0.07063934753524585, 'depth': 10, 'l2_leaf_reg': 9.674357890209441, 'random_strength': 6.3876449445484855, 'iterations': 996, 'border_count': 173, 'min_data_in_leaf': 84, 'bootstrap_type': 'Bayesian', 'leaf_estimation_iterations': 9, 'boosting_type': 'Ordered', 'bagging_temperature': 1.349172766379516}. Best is trial 3 with value: 0.7927104212589042.\n",
      "[I 2025-06-04 23:46:53,021] Trial 9 finished with value: 0.7903771431409345 and parameters: {'learning_rate': 0.18180364773711713, 'depth': 6, 'l2_leaf_reg': 4.198046289517234, 'random_strength': 6.9209892371677135, 'iterations': 294, 'border_count': 50, 'min_data_in_leaf': 48, 'bootstrap_type': 'Bayesian', 'leaf_estimation_iterations': 5, 'boosting_type': 'Ordered', 'bagging_temperature': 0.5675398390004849}. Best is trial 3 with value: 0.7927104212589042.\n",
      "[I 2025-06-04 23:47:07,864] Trial 10 finished with value: 0.7784515330742552 and parameters: {'learning_rate': 0.013005704001460679, 'depth': 8, 'l2_leaf_reg': 7.992885418592506, 'random_strength': 3.9876988774848314, 'iterations': 613, 'border_count': 250, 'min_data_in_leaf': 2, 'bootstrap_type': 'No', 'leaf_estimation_iterations': 1, 'boosting_type': 'Ordered'}. Best is trial 3 with value: 0.7927104212589042.\n",
      "[I 2025-06-04 23:47:13,965] Trial 11 finished with value: 0.7924872381345767 and parameters: {'learning_rate': 0.22160501181846412, 'depth': 7, 'l2_leaf_reg': 9.906661441755848, 'random_strength': 0.4510492366418477, 'iterations': 112, 'border_count': 172, 'min_data_in_leaf': 58, 'bootstrap_type': 'MVS', 'leaf_estimation_iterations': 7, 'boosting_type': 'Ordered'}. Best is trial 3 with value: 0.7927104212589042.\n",
      "[I 2025-06-04 23:47:18,897] Trial 12 finished with value: 0.7910825774531747 and parameters: {'learning_rate': 0.22807304972159242, 'depth': 7, 'l2_leaf_reg': 1.146533977104756, 'random_strength': 0.9447414552875424, 'iterations': 757, 'border_count': 198, 'min_data_in_leaf': 43, 'bootstrap_type': 'MVS', 'leaf_estimation_iterations': 7, 'boosting_type': 'Ordered'}. Best is trial 3 with value: 0.7927104212589042.\n",
      "[I 2025-06-04 23:47:25,798] Trial 13 finished with value: 0.791619943062563 and parameters: {'learning_rate': 0.22875542065782706, 'depth': 7, 'l2_leaf_reg': 8.232392463937709, 'random_strength': 2.756428417030464, 'iterations': 525, 'border_count': 216, 'min_data_in_leaf': 68, 'bootstrap_type': 'MVS', 'leaf_estimation_iterations': 2, 'boosting_type': 'Ordered'}. Best is trial 3 with value: 0.7927104212589042.\n",
      "[I 2025-06-04 23:47:36,642] Trial 14 finished with value: 0.7896506623875265 and parameters: {'learning_rate': 0.22033824556761059, 'depth': 8, 'l2_leaf_reg': 9.88718448482273, 'random_strength': 4.7994201104576675, 'iterations': 127, 'border_count': 96, 'min_data_in_leaf': 39, 'bootstrap_type': 'No', 'leaf_estimation_iterations': 6, 'boosting_type': 'Ordered'}. Best is trial 3 with value: 0.7927104212589042.\n",
      "[I 2025-06-04 23:47:39,879] Trial 15 finished with value: 0.794717555245394 and parameters: {'learning_rate': 0.07953051637405995, 'depth': 4, 'l2_leaf_reg': 8.008906677104545, 'random_strength': 0.3429542653342405, 'iterations': 483, 'border_count': 41, 'min_data_in_leaf': 62, 'bootstrap_type': 'MVS', 'leaf_estimation_iterations': 8, 'boosting_type': 'Ordered'}. Best is trial 15 with value: 0.794717555245394.\n",
      "[I 2025-06-04 23:47:46,086] Trial 16 finished with value: 0.7940561821876851 and parameters: {'learning_rate': 0.06125665365225906, 'depth': 4, 'l2_leaf_reg': 7.573977575781173, 'random_strength': 2.4322355126359874, 'iterations': 490, 'border_count': 44, 'min_data_in_leaf': 24, 'bootstrap_type': 'No', 'leaf_estimation_iterations': 10, 'boosting_type': 'Ordered'}. Best is trial 15 with value: 0.794717555245394.\n",
      "[I 2025-06-04 23:47:50,333] Trial 17 finished with value: 0.7929490485343047 and parameters: {'learning_rate': 0.07775906669475936, 'depth': 4, 'l2_leaf_reg': 6.941362309728076, 'random_strength': 2.1190812290145926, 'iterations': 475, 'border_count': 34, 'min_data_in_leaf': 23, 'bootstrap_type': 'MVS', 'leaf_estimation_iterations': 10, 'boosting_type': 'Ordered'}. Best is trial 15 with value: 0.794717555245394.\n",
      "[I 2025-06-04 23:47:51,891] Trial 18 finished with value: 0.7913069718834688 and parameters: {'learning_rate': 0.11401093797936761, 'depth': 4, 'l2_leaf_reg': 7.51136914717443, 'random_strength': 2.3226671171802002, 'iterations': 387, 'border_count': 94, 'min_data_in_leaf': 25, 'bootstrap_type': 'MVS', 'leaf_estimation_iterations': 9, 'boosting_type': 'Plain', 'grow_policy': 'Depthwise'}. Best is trial 15 with value: 0.794717555245394.\n",
      "[I 2025-06-04 23:47:58,161] Trial 19 finished with value: 0.7947719126006406 and parameters: {'learning_rate': 0.05186431379427097, 'depth': 4, 'l2_leaf_reg': 5.495788514231833, 'random_strength': 1.4065306508958317, 'iterations': 603, 'border_count': 102, 'min_data_in_leaf': 13, 'bootstrap_type': 'No', 'leaf_estimation_iterations': 8, 'boosting_type': 'Ordered'}. Best is trial 19 with value: 0.7947719126006406.\n",
      "[I 2025-06-04 23:48:02,066] Trial 20 finished with value: 0.7921582171514262 and parameters: {'learning_rate': 0.09936286542603896, 'depth': 6, 'l2_leaf_reg': 4.964607346061319, 'random_strength': 0.10817444362482131, 'iterations': 629, 'border_count': 98, 'min_data_in_leaf': 74, 'bootstrap_type': 'MVS', 'leaf_estimation_iterations': 8, 'boosting_type': 'Ordered'}. Best is trial 19 with value: 0.7947719126006406.\n",
      "[I 2025-06-04 23:48:08,365] Trial 21 finished with value: 0.7931337726941958 and parameters: {'learning_rate': 0.04592078423518885, 'depth': 4, 'l2_leaf_reg': 6.386003831681491, 'random_strength': 1.5195345033415635, 'iterations': 495, 'border_count': 33, 'min_data_in_leaf': 11, 'bootstrap_type': 'No', 'leaf_estimation_iterations': 9, 'boosting_type': 'Ordered'}. Best is trial 19 with value: 0.7947719126006406.\n",
      "[I 2025-06-04 23:48:15,830] Trial 22 finished with value: 0.7931811650401351 and parameters: {'learning_rate': 0.0549891725963364, 'depth': 4, 'l2_leaf_reg': 5.777901116545443, 'random_strength': 3.4842370625466206, 'iterations': 406, 'border_count': 55, 'min_data_in_leaf': 1, 'bootstrap_type': 'No', 'leaf_estimation_iterations': 8, 'boosting_type': 'Ordered'}. Best is trial 19 with value: 0.7947719126006406.\n",
      "[I 2025-06-04 23:48:21,821] Trial 23 finished with value: 0.7930816865376363 and parameters: {'learning_rate': 0.053099863756542375, 'depth': 4, 'l2_leaf_reg': 7.323575498195332, 'random_strength': 1.696964263578599, 'iterations': 579, 'border_count': 113, 'min_data_in_leaf': 17, 'bootstrap_type': 'No', 'leaf_estimation_iterations': 10, 'boosting_type': 'Ordered'}. Best is trial 19 with value: 0.7947719126006406.\n",
      "[I 2025-06-04 23:48:27,065] Trial 24 finished with value: 0.7938549539840004 and parameters: {'learning_rate': 0.09801122414836375, 'depth': 5, 'l2_leaf_reg': 5.778972740575108, 'random_strength': 3.263175545080454, 'iterations': 693, 'border_count': 84, 'min_data_in_leaf': 36, 'bootstrap_type': 'No', 'leaf_estimation_iterations': 7, 'boosting_type': 'Ordered'}. Best is trial 19 with value: 0.7947719126006406.\n",
      "[I 2025-06-04 23:48:31,420] Trial 25 finished with value: 0.7919498725251883 and parameters: {'learning_rate': 0.052982768121672824, 'depth': 4, 'l2_leaf_reg': 8.435782748103362, 'random_strength': 0.8917542704881303, 'iterations': 436, 'border_count': 44, 'min_data_in_leaf': 31, 'bootstrap_type': 'No', 'leaf_estimation_iterations': 9, 'boosting_type': 'Ordered'}. Best is trial 19 with value: 0.7947719126006406.\n",
      "[I 2025-06-04 23:48:39,647] Trial 26 finished with value: 0.7927261682364688 and parameters: {'learning_rate': 0.031023931447564157, 'depth': 5, 'l2_leaf_reg': 7.577189203763012, 'random_strength': 1.718381344847878, 'iterations': 555, 'border_count': 70, 'min_data_in_leaf': 11, 'bootstrap_type': 'No', 'leaf_estimation_iterations': 8, 'boosting_type': 'Plain', 'grow_policy': 'Lossguide'}. Best is trial 19 with value: 0.7947719126006406.\n",
      "[I 2025-06-04 23:48:43,928] Trial 27 finished with value: 0.7926354717022271 and parameters: {'learning_rate': 0.11223313403088345, 'depth': 6, 'l2_leaf_reg': 4.647671118078341, 'random_strength': 0.15695049128775151, 'iterations': 644, 'border_count': 112, 'min_data_in_leaf': 18, 'bootstrap_type': 'MVS', 'leaf_estimation_iterations': 10, 'boosting_type': 'Ordered'}. Best is trial 19 with value: 0.7947719126006406.\n",
      "[I 2025-06-04 23:48:47,197] Trial 28 finished with value: 0.794760253780713 and parameters: {'learning_rate': 0.1716199236581519, 'depth': 4, 'l2_leaf_reg': 6.141078957284147, 'random_strength': 2.369443230365926, 'iterations': 354, 'border_count': 83, 'min_data_in_leaf': 68, 'bootstrap_type': 'Bernoulli', 'leaf_estimation_iterations': 7, 'boosting_type': 'Ordered', 'subsample': 0.9151721035648798}. Best is trial 19 with value: 0.7947719126006406.\n",
      "[I 2025-06-04 23:48:48,921] Trial 29 finished with value: 0.7915293979415672 and parameters: {'learning_rate': 0.15456282952580944, 'depth': 5, 'l2_leaf_reg': 1.9710266470675766, 'random_strength': 3.6169666254630766, 'iterations': 347, 'border_count': 121, 'min_data_in_leaf': 64, 'bootstrap_type': 'Bernoulli', 'leaf_estimation_iterations': 7, 'boosting_type': 'Plain', 'grow_policy': 'Depthwise', 'subsample': 0.9843200604355062}. Best is trial 19 with value: 0.7947719126006406.\n",
      "[I 2025-06-04 23:49:07,378] Trial 30 finished with value: 0.7923153841005796 and parameters: {'learning_rate': 0.169904344516957, 'depth': 9, 'l2_leaf_reg': 3.0684185511074524, 'random_strength': 5.557593647185594, 'iterations': 858, 'border_count': 85, 'min_data_in_leaf': 84, 'bootstrap_type': 'Bernoulli', 'leaf_estimation_iterations': 6, 'boosting_type': 'Ordered', 'subsample': 0.8493231854596704}. Best is trial 19 with value: 0.7947719126006406.\n",
      "[I 2025-06-04 23:49:09,497] Trial 31 finished with value: 0.7893049859473367 and parameters: {'learning_rate': 0.19918927095381106, 'depth': 4, 'l2_leaf_reg': 5.984649005885333, 'random_strength': 2.5131688272791064, 'iterations': 497, 'border_count': 49, 'min_data_in_leaf': 65, 'bootstrap_type': 'Bernoulli', 'leaf_estimation_iterations': 8, 'boosting_type': 'Ordered', 'subsample': 0.4354527073883356}. Best is trial 19 with value: 0.7947719126006406.\n",
      "[I 2025-06-04 23:49:14,961] Trial 32 finished with value: 0.7892052046183462 and parameters: {'learning_rate': 0.03358933703005884, 'depth': 4, 'l2_leaf_reg': 7.268956536697499, 'random_strength': 2.903685134489792, 'iterations': 330, 'border_count': 64, 'min_data_in_leaf': 82, 'bootstrap_type': 'Bernoulli', 'leaf_estimation_iterations': 9, 'boosting_type': 'Ordered', 'subsample': 0.46347065266646703}. Best is trial 19 with value: 0.7947719126006406.\n",
      "[I 2025-06-04 23:49:21,143] Trial 33 finished with value: 0.7914041791872803 and parameters: {'learning_rate': 0.13049521855587976, 'depth': 4, 'l2_leaf_reg': 5.118660445908562, 'random_strength': 1.350828852632993, 'iterations': 546, 'border_count': 77, 'min_data_in_leaf': 96, 'bootstrap_type': 'Bernoulli', 'leaf_estimation_iterations': 8, 'boosting_type': 'Ordered', 'subsample': 0.5757471799477211}. Best is trial 19 with value: 0.7947719126006406.\n",
      "[I 2025-06-04 23:49:24,542] Trial 34 finished with value: 0.7913063662304856 and parameters: {'learning_rate': 0.06835002475830332, 'depth': 5, 'l2_leaf_reg': 6.815643025226201, 'random_strength': 0.5933061329888827, 'iterations': 451, 'border_count': 104, 'min_data_in_leaf': 55, 'bootstrap_type': 'No', 'leaf_estimation_iterations': 5, 'boosting_type': 'Ordered'}. Best is trial 19 with value: 0.7947719126006406.\n",
      "[I 2025-06-04 23:49:27,074] Trial 35 finished with value: 0.7880968596589993 and parameters: {'learning_rate': 0.25246769577750006, 'depth': 6, 'l2_leaf_reg': 8.999443625370363, 'random_strength': 9.853018423867614, 'iterations': 688, 'border_count': 61, 'min_data_in_leaf': 71, 'bootstrap_type': 'No', 'leaf_estimation_iterations': 7, 'boosting_type': 'Plain', 'grow_policy': 'Lossguide'}. Best is trial 19 with value: 0.7947719126006406.\n",
      "[I 2025-06-04 23:49:28,414] Trial 36 finished with value: 0.7854236588041805 and parameters: {'learning_rate': 0.09823641280216146, 'depth': 5, 'l2_leaf_reg': 6.131570784469428, 'random_strength': 2.0797931962550047, 'iterations': 237, 'border_count': 39, 'min_data_in_leaf': 49, 'bootstrap_type': 'Bernoulli', 'leaf_estimation_iterations': 8, 'boosting_type': 'Ordered', 'subsample': 0.2635050927417468}. Best is trial 19 with value: 0.7947719126006406.\n",
      "[I 2025-06-04 23:49:31,590] Trial 37 finished with value: 0.7977591445272741 and parameters: {'learning_rate': 0.14391857058949248, 'depth': 4, 'l2_leaf_reg': 8.011953254371392, 'random_strength': 4.071335079914388, 'iterations': 366, 'border_count': 82, 'min_data_in_leaf': 63, 'bootstrap_type': 'MVS', 'leaf_estimation_iterations': 6, 'boosting_type': 'Ordered'}. Best is trial 37 with value: 0.7977591445272741.\n",
      "[I 2025-06-04 23:49:35,580] Trial 38 finished with value: 0.790102328099785 and parameters: {'learning_rate': 0.14518130762089976, 'depth': 5, 'l2_leaf_reg': 3.9826561072798445, 'random_strength': 4.461458936614838, 'iterations': 193, 'border_count': 130, 'min_data_in_leaf': 60, 'bootstrap_type': 'MVS', 'leaf_estimation_iterations': 5, 'boosting_type': 'Ordered'}. Best is trial 37 with value: 0.7977591445272741.\n",
      "[I 2025-06-04 23:49:36,380] Trial 39 finished with value: 0.784760620200768 and parameters: {'learning_rate': 0.2990213706321274, 'depth': 5, 'l2_leaf_reg': 8.676205704035374, 'random_strength': 3.8779858134750382, 'iterations': 346, 'border_count': 80, 'min_data_in_leaf': 77, 'bootstrap_type': 'MVS', 'leaf_estimation_iterations': 6, 'boosting_type': 'Plain', 'grow_policy': 'SymmetricTree'}. Best is trial 37 with value: 0.7977591445272741.\n",
      "[I 2025-06-04 23:49:41,666] Trial 40 finished with value: 0.7835927698358166 and parameters: {'learning_rate': 0.1691951945965035, 'depth': 4, 'l2_leaf_reg': 9.216761662349915, 'random_strength': 5.436984418693353, 'iterations': 305, 'border_count': 148, 'min_data_in_leaf': 44, 'bootstrap_type': 'Bayesian', 'leaf_estimation_iterations': 6, 'boosting_type': 'Ordered', 'bagging_temperature': 9.991710515425968}. Best is trial 37 with value: 0.7977591445272741.\n",
      "[I 2025-06-04 23:49:44,114] Trial 41 finished with value: 0.7931958521249789 and parameters: {'learning_rate': 0.19745058944747365, 'depth': 4, 'l2_leaf_reg': 7.751815300474492, 'random_strength': 3.0114723444887788, 'iterations': 393, 'border_count': 61, 'min_data_in_leaf': 62, 'bootstrap_type': 'MVS', 'leaf_estimation_iterations': 7, 'boosting_type': 'Ordered'}. Best is trial 37 with value: 0.7977591445272741.\n",
      "[I 2025-06-04 23:49:52,154] Trial 42 finished with value: 0.7931592101194923 and parameters: {'learning_rate': 0.03736136853347249, 'depth': 4, 'l2_leaf_reg': 5.530033706940239, 'random_strength': 1.1763854917508347, 'iterations': 438, 'border_count': 70, 'min_data_in_leaf': 54, 'bootstrap_type': 'MVS', 'leaf_estimation_iterations': 9, 'boosting_type': 'Ordered'}. Best is trial 37 with value: 0.7977591445272741.\n",
      "[I 2025-06-04 23:49:56,625] Trial 43 finished with value: 0.7862974646457641 and parameters: {'learning_rate': 0.12503464047988724, 'depth': 5, 'l2_leaf_reg': 8.135056900838043, 'random_strength': 2.1517697173441195, 'iterations': 571, 'border_count': 89, 'min_data_in_leaf': 68, 'bootstrap_type': 'Bayesian', 'leaf_estimation_iterations': 4, 'boosting_type': 'Ordered', 'bagging_temperature': 9.89382316952349}. Best is trial 37 with value: 0.7977591445272741.\n",
      "[I 2025-06-04 23:50:02,478] Trial 44 finished with value: 0.7902985596663579 and parameters: {'learning_rate': 0.08231669512053254, 'depth': 4, 'l2_leaf_reg': 6.919217155826284, 'random_strength': 4.280199867695879, 'iterations': 517, 'border_count': 51, 'min_data_in_leaf': 30, 'bootstrap_type': 'No', 'leaf_estimation_iterations': 7, 'boosting_type': 'Ordered'}. Best is trial 37 with value: 0.7977591445272741.\n",
      "[I 2025-06-04 23:50:07,974] Trial 45 finished with value: 0.7890425867923436 and parameters: {'learning_rate': 0.06530304133464605, 'depth': 5, 'l2_leaf_reg': 9.416846664313077, 'random_strength': 0.7424751502713243, 'iterations': 739, 'border_count': 106, 'min_data_in_leaf': 7, 'bootstrap_type': 'Bernoulli', 'leaf_estimation_iterations': 5, 'boosting_type': 'Ordered', 'subsample': 0.2867274505685246}. Best is trial 37 with value: 0.7977591445272741.\n",
      "[I 2025-06-04 23:50:18,272] Trial 46 finished with value: 0.7912024967438582 and parameters: {'learning_rate': 0.0185799511201636, 'depth': 6, 'l2_leaf_reg': 4.542286567970236, 'random_strength': 1.780989659052119, 'iterations': 276, 'border_count': 124, 'min_data_in_leaf': 94, 'bootstrap_type': 'MVS', 'leaf_estimation_iterations': 10, 'boosting_type': 'Ordered'}. Best is trial 37 with value: 0.7977591445272741.\n",
      "[I 2025-06-04 23:50:22,096] Trial 47 finished with value: 0.7936818886440368 and parameters: {'learning_rate': 0.13417691984937796, 'depth': 4, 'l2_leaf_reg': 8.659445072185903, 'random_strength': 6.121046062672457, 'iterations': 600, 'border_count': 42, 'min_data_in_leaf': 79, 'bootstrap_type': 'No', 'leaf_estimation_iterations': 6, 'boosting_type': 'Ordered'}. Best is trial 37 with value: 0.7977591445272741.\n",
      "[I 2025-06-04 23:50:25,620] Trial 48 finished with value: 0.7914806428764156 and parameters: {'learning_rate': 0.08957183701166989, 'depth': 4, 'l2_leaf_reg': 6.696391742173435, 'random_strength': 2.554881800871102, 'iterations': 467, 'border_count': 74, 'min_data_in_leaf': 92, 'bootstrap_type': 'MVS', 'leaf_estimation_iterations': 8, 'boosting_type': 'Ordered'}. Best is trial 37 with value: 0.7977591445272741.\n",
      "[I 2025-06-04 23:50:27,293] Trial 49 finished with value: 0.781628334384646 and parameters: {'learning_rate': 0.20072834982680274, 'depth': 8, 'l2_leaf_reg': 7.9835881743498485, 'random_strength': 4.8651422154443456, 'iterations': 371, 'border_count': 61, 'min_data_in_leaf': 52, 'bootstrap_type': 'Bayesian', 'leaf_estimation_iterations': 9, 'boosting_type': 'Plain', 'grow_policy': 'SymmetricTree', 'bagging_temperature': 6.323574103219222}. Best is trial 37 with value: 0.7977591445272741.\n"
     ]
    },
    {
     "name": "stdout",
     "output_type": "stream",
     "text": [
      "Best trial:\n",
      "  Value (AUC): 0.79776\n",
      "  Params:\n",
      "    learning_rate: 0.14391857058949248\n",
      "    depth: 4\n",
      "    l2_leaf_reg: 8.011953254371392\n",
      "    random_strength: 4.071335079914388\n",
      "    iterations: 366\n",
      "    border_count: 82\n",
      "    min_data_in_leaf: 63\n",
      "    bootstrap_type: MVS\n",
      "    leaf_estimation_iterations: 6\n",
      "    boosting_type: Ordered\n",
      "\n",
      "Optimized Model Performance:\n",
      "Accuracy: 0.9016\n",
      "ROC AUC Score: 0.7978\n",
      "\n",
      "Classification Report:\n",
      "              precision    recall  f1-score   support\n",
      "\n",
      "           0       0.91      0.98      0.95      5057\n",
      "           1       0.67      0.28      0.39       653\n",
      "\n",
      "    accuracy                           0.90      5710\n",
      "   macro avg       0.79      0.63      0.67      5710\n",
      "weighted avg       0.89      0.90      0.88      5710\n",
      "\n"
     ]
    },
    {
     "data": {
      "image/png": "[encoded data removed]",
      "text/plain": [
       "<Figure size 800x600 with 1 Axes>"
      ]
     },
     "metadata": {},
     "output_type": "display_data"
    },
    {
     "data": {
      "image/png": "[encoded data removed]",
      "text/plain": [
       "<Figure size 1200x800 with 1 Axes>"
      ]
     },
     "metadata": {},
     "output_type": "display_data"
    }
   ],
   "source": [
    "def objective(trial):\n",
    "    # Define the hyperparameter search space\n",
    "    param = {\n",
    "        'learning_rate': trial.suggest_float('learning_rate', 0.01, 0.3),\n",
    "        'depth': trial.suggest_int('depth', 4, 10),\n",
    "        'l2_leaf_reg': trial.suggest_float('l2_leaf_reg', 1, 10),\n",
    "        'random_strength': trial.suggest_float('random_strength', 0.1, 10),\n",
    "        'iterations': trial.suggest_int('iterations', 100, 1000),\n",
    "        'border_count': trial.suggest_int('border_count', 32, 255),\n",
    "        'min_data_in_leaf': trial.suggest_int('min_data_in_leaf', 1, 100),\n",
    "        # 'scale_pos_weight': trial.suggest_float('scale_pos_weight', 1, 10),\n",
    "        'bootstrap_type': trial.suggest_categorical('bootstrap_type', ['Bayesian', 'Bernoulli', 'MVS', 'No']),\n",
    "        'leaf_estimation_iterations': trial.suggest_int('leaf_estimation_iterations', 1, 10),\n",
    "        'random_seed': 42,\n",
    "        'verbose': 0\n",
    "    }\n",
    "    \n",
    "    # First choose boosting type\n",
    "    param['boosting_type'] = trial.suggest_categorical('boosting_type', ['Ordered', 'Plain'])\n",
    "    \n",
    "    # For Ordered boosting, we must use SymmetricTree\n",
    "    if param['boosting_type'] == 'Ordered':\n",
    "        param['grow_policy'] = 'SymmetricTree'\n",
    "    else:\n",
    "        param['grow_policy'] = trial.suggest_categorical('grow_policy', ['SymmetricTree', 'Depthwise', 'Lossguide'])\n",
    "    \n",
    "    if param[\"bootstrap_type\"] == \"Bayesian\":\n",
    "        param[\"bagging_temperature\"] = trial.suggest_float(\"bagging_temperature\", 0, 10)\n",
    "    elif param[\"bootstrap_type\"] == \"Bernoulli\":\n",
    "        param[\"subsample\"] = trial.suggest_float(\"subsample\", 0.1, 1, log=True)\n",
    "\n",
    "    # Create model with current hyperparameters\n",
    "    model = CatBoostClassifier(**param, eval_metric='AUC')\n",
    "    \n",
    "    # Train the model\n",
    "    model.fit(\n",
    "        X_train_scaled, y_train, \n",
    "        eval_set=[(X_val_scaled, y_val)],\n",
    "        early_stopping_rounds=50,\n",
    "        verbose=False\n",
    "    )\n",
    "    \n",
    "    # Get validation AUC score\n",
    "    preds = model.predict_proba(X_val_scaled)[:, 1]\n",
    "    auc = roc_auc_score(y_val, preds)\n",
    "    \n",
    "    return auc\n",
    "\n",
    "# Create and run the study\n",
    "study = optuna.create_study(direction='maximize')\n",
    "study.optimize(objective, n_trials=50, timeout=600)  # Set timeout to 10 minutes\n",
    "\n",
    "# Display best parameters and score\n",
    "print(\"Best trial:\")\n",
    "print(f\"  Value (AUC): {study.best_value:.5f}\")\n",
    "print(\"  Params:\")\n",
    "for key, value in study.best_params.items():\n",
    "    print(f\"    {key}: {value}\")\n",
    "\n",
    "# Train final model with best parameters\n",
    "best_params = study.best_params\n",
    "best_params['random_seed'] = 42\n",
    "best_params['verbose'] = 0\n",
    "best_params['eval_metric'] = 'AUC'\n",
    "\n",
    "best_model = CatBoostClassifier(**best_params)\n",
    "best_model.fit(\n",
    "    X_train_scaled, y_train, \n",
    "    eval_set=[(X_val_scaled, y_val)],\n",
    "    early_stopping_rounds=50,\n",
    "    verbose=False\n",
    ")\n",
    "\n",
    "# Evaluate the optimized model\n",
    "y_pred = best_model.predict(X_val_scaled)\n",
    "y_pred_proba = best_model.predict_proba(X_val_scaled)[:, 1]\n",
    "accuracy = accuracy_score(y_val, y_pred)\n",
    "roc_auc = roc_auc_score(y_val, y_pred_proba)\n",
    "\n",
    "print(f\"\\nOptimized Model Performance:\")\n",
    "print(f\"Accuracy: {accuracy:.4f}\")\n",
    "print(f\"ROC AUC Score: {roc_auc:.4f}\")\n",
    "print(\"\\nClassification Report:\")\n",
    "print(classification_report(y_val, y_pred))\n",
    "\n",
    "# Plot confusion matrix\n",
    "cm = confusion_matrix(y_val, y_pred)\n",
    "plt.figure(figsize=(8, 6))\n",
    "sns.heatmap(cm, annot=True, fmt='d', cmap='Blues', cbar=False, \n",
    "            xticklabels=['False', 'True'], yticklabels=['False', 'True'])\n",
    "plt.title('Confusion Matrix - Optimized CatBoost Model')\n",
    "plt.xlabel('Predicted')\n",
    "plt.ylabel('Actual')\n",
    "plt.show()\n",
    "\n",
    "# Feature importance\n",
    "feature_importance = best_model.get_feature_importance()\n",
    "importance_df = pd.DataFrame({\n",
    "    'Feature': X_train.columns,\n",
    "    'Importance': feature_importance\n",
    "}).sort_values(by='Importance', ascending=False)\n",
    "\n",
    "plt.figure(figsize=(12, 8))\n",
    "sns.barplot(x='Importance', y='Feature', data=importance_df.head(20))\n",
    "plt.title('Top 20 Feature Importance - Optimized CatBoost Model')\n",
    "plt.tight_layout()\n",
    "plt.show()\n",
    "\n",
    "# Save the best model for later prediction\n",
    "model2_optimized = best_model"
   ]
  },
  {
   "cell_type": "markdown",
   "id": "ba028aa7",
   "metadata": {},
   "source": [
    "## RFE"
   ]
  },
  {
   "cell_type": "code",
   "execution_count": 36,
   "id": "d12b16a5",
   "metadata": {},
   "outputs": [],
   "source": [
    "# rfe = RFE(estimator=model2_optimized, step=1)\n",
    "# rfe.fit(X_train_scaled, y_train)\n",
    "# rfe_support = rfe.support_\n",
    "# rfe_ranking = rfe.ranking_\n",
    "# rfe_features = X_train_scaled.columns[rfe_support]\n",
    "# print(\"RFE Selected Features:\")\n",
    "# print(rfe_features.tolist())\n",
    "# # Create a new DataFrame with RFE selected features\n",
    "# X_train_rfe = X_train_scaled[rfe_features]\n",
    "# X_val_rfe = X_val_scaled[rfe_features]\n",
    "# test_rfe = test_scaled[rfe_features]\n",
    "\n",
    "# X_train_rfe"
   ]
  },
  {
   "cell_type": "code",
   "execution_count": 37,
   "id": "3548ab88",
   "metadata": {},
   "outputs": [],
   "source": [
    "# model_rfe = model2_optimized\n",
    "# model_rfe.fit(X_train_rfe, y_train, eval_set=(X_val_rfe, y_val), early_stopping_rounds=50, verbose=False)\n",
    "# # Evaluate the RFE model\n",
    "# y_pred_rfe = model_rfe.predict(X_val_rfe)\n",
    "# y_pred_proba_rfe = model_rfe.predict_proba(X_val_rfe)[:, 1]\n",
    "# accuracy_rfe = accuracy_score(y_val, y_pred_rfe)\n",
    "# roc_auc_rfe = roc_auc_score(y_val, y_pred_proba_rfe)\n",
    "\n",
    "# print(f\"RFE Model Performance:\")\n",
    "# print(f\"Accuracy: {accuracy_rfe:.4f}\")\n",
    "# print(f\"ROC AUC Score: {roc_auc_rfe:.4f}\")\n",
    "\n",
    "# # Plot confusion matrix for RFE model\n",
    "# cm_rfe = confusion_matrix(y_val, y_pred_rfe)\n",
    "# plt.figure(figsize=(8, 6))\n",
    "# sns.heatmap(cm_rfe, annot=True, fmt='d', cmap='Blues', cbar=False, \n",
    "#             xticklabels=['False', 'True'], yticklabels=['False', 'True'])\n",
    "# plt.title('Confusion Matrix - RFE CatBoost Model')\n",
    "# plt.xlabel('Predicted')\n",
    "# plt.ylabel('Actual')"
   ]
  },
  {
   "cell_type": "markdown",
   "id": "32666682",
   "metadata": {},
   "source": [
    "# Predict"
   ]
  },
  {
   "cell_type": "code",
   "execution_count": 38,
   "id": "c2e43c53",
   "metadata": {},
   "outputs": [],
   "source": [
    "# save the model\n",
    "model2_optimized.save_model('catboost_model_rfe3.cbm')\n",
    "\n",
    "# Save the parameters\n",
    "with open('catboost_params_rfe3.txt', 'w') as f:\n",
    "    for key, value in best_params.items():\n",
    "        f.write(f\"{key}: {value}\\n\")\n"
   ]
  },
  {
   "cell_type": "code",
   "execution_count": 39,
   "id": "902c37ba",
   "metadata": {},
   "outputs": [
    {
     "name": "stdout",
     "output_type": "stream",
     "text": [
      "Submission file created successfully!\n"
     ]
    }
   ],
   "source": [
    "# Id Column\n",
    "test_id = pd.read_csv('D:/Data Quest Challenge DSI/validation_set.csv')['customer_number']\n",
    "\n",
    "# Make predictions on the test set\n",
    "test_predictions = model2_optimized.predict_proba(test_scaled)[:, 1]\n",
    "\n",
    "# Create submission DataFrame\n",
    "submission = pd.DataFrame({\n",
    "    'customer_number': test_id,\n",
    "    'berlangganan_deposito': test_predictions\n",
    "})\n",
    "\n",
    "# Save submission to CSV\n",
    "submission.to_csv('submission4.csv', index=False)\n",
    "print(\"Submission file created successfully!\")"
   ]
  }
 ],
 "metadata": {
  "kernelspec": {
   "display_name": "tf2",
   "language": "python",
   "name": "python3"
  },
  "language_info": {
   "codemirror_mode": {
    "name": "ipython",
    "version": 3
   },
   "file_extension": ".py",
   "mimetype": "text/x-python",
   "name": "python",
   "nbconvert_exporter": "python",
   "pygments_lexer": "ipython3",
   "version": "3.10.16"
  }
 },
 "nbformat": 4,
 "nbformat_minor": 5
}
