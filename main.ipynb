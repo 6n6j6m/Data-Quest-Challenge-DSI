{
 "cells": [
  {
   "cell_type": "markdown",
   "id": "2e55440d",
   "metadata": {},
   "source": [
    "# Lib"
   ]
  },
  {
   "cell_type": "code",
   "execution_count": 44,
   "id": "24dc3d07",
   "metadata": {},
   "outputs": [],
   "source": [
    "import torch\n",
    "import torch.nn as nn\n",
    "import torch.nn.functional as F\n",
    "from sklearn.feature_selection import RFE\n",
    "from torch.nn import init\n",
    "from torch.nn import Parameter\n",
    "from sklearn.model_selection import train_test_split\n",
    "import numpy as np\n",
    "import pandas as pd\n",
    "import matplotlib.pyplot as plt\n",
    "import seaborn as sns\n",
    "import os\n",
    "import random"
   ]
  },
  {
   "cell_type": "code",
   "execution_count": 45,
   "id": "fe7f2651",
   "metadata": {},
   "outputs": [],
   "source": [
    "train = pd.read_csv('D:/Data Quest Challenge DSI/training_dataset.csv')\n",
    "test = pd.read_csv('D:/Data Quest Challenge DSI/validation_set.csv')"
   ]
  },
  {
   "cell_type": "code",
   "execution_count": 46,
   "id": "8a61ad2f",
   "metadata": {},
   "outputs": [
    {
     "name": "stdout",
     "output_type": "stream",
     "text": [
      "Missing values in training dataset:\n",
      "customer_number                 0\n",
      "usia                            0\n",
      "pekerjaan                       0\n",
      "status_perkawinan               0\n",
      "pendidikan                      0\n",
      "gagal_bayar_sebelumnya          0\n",
      "pinjaman_rumah                  0\n",
      "pinjaman_pribadi                0\n",
      "jenis_kontak                    0\n",
      "bulan_kontak_terakhir           0\n",
      "hari_kontak_terakhir            0\n",
      "jumlah_kontak_kampanye_ini      0\n",
      "hari_sejak_kontak_sebelumnya    0\n",
      "jumlah_kontak_sebelumnya        0\n",
      "hasil_kampanye_sebelumnya       0\n",
      "tingkat_variasi_pekerjaan       0\n",
      "indeks_harga_konsumen           0\n",
      "indeks_kepercayaan_konsumen     0\n",
      "suku_bunga_euribor_3bln         0\n",
      "jumlah_pekerja                  0\n",
      "pulau                           0\n",
      "berlangganan_deposito           0\n",
      "dtype: int64\n",
      "\n",
      "Missing values in validation dataset:\n",
      "customer_number                 0\n",
      "usia                            0\n",
      "pekerjaan                       0\n",
      "status_perkawinan               0\n",
      "pendidikan                      0\n",
      "gagal_bayar_sebelumnya          0\n",
      "pinjaman_rumah                  0\n",
      "pinjaman_pribadi                0\n",
      "jenis_kontak                    0\n",
      "bulan_kontak_terakhir           0\n",
      "hari_kontak_terakhir            0\n",
      "jumlah_kontak_kampanye_ini      0\n",
      "hari_sejak_kontak_sebelumnya    0\n",
      "jumlah_kontak_sebelumnya        0\n",
      "hasil_kampanye_sebelumnya       0\n",
      "tingkat_variasi_pekerjaan       0\n",
      "indeks_harga_konsumen           0\n",
      "indeks_kepercayaan_konsumen     0\n",
      "suku_bunga_euribor_3bln         0\n",
      "jumlah_pekerja                  0\n",
      "pulau                           0\n",
      "dtype: int64\n",
      "\n",
      "Total rows with missing values:\n",
      "Training dataset: 0 out of 22916 rows\n",
      "Validation dataset: 0 out of 5729 rows\n"
     ]
    }
   ],
   "source": [
    "# Check for missing values in both train and test datasets\n",
    "print(\"Missing values in training dataset:\")\n",
    "print(train.isna().sum())\n",
    "\n",
    "print(\"\\nMissing values in validation dataset:\")\n",
    "print(test.isna().sum())\n",
    "\n",
    "# Print total number of rows with missing values in each dataset\n",
    "print(\"\\nTotal rows with missing values:\")\n",
    "print(f\"Training dataset: {train.isna().any(axis=1).sum()} out of {train.shape[0]} rows\")\n",
    "print(f\"Validation dataset: {test.isna().any(axis=1).sum()} out of {test.shape[0]} rows\")"
   ]
  },
  {
   "cell_type": "code",
   "execution_count": 48,
   "id": "7cbe4d17",
   "metadata": {},
   "outputs": [
    {
     "data": {
      "application/vnd.microsoft.datawrangler.viewer.v0+json": {
       "columns": [
        {
         "name": "index",
         "rawType": "int64",
         "type": "integer"
        },
        {
         "name": "customer_number",
         "rawType": "int64",
         "type": "integer"
        },
        {
         "name": "usia",
         "rawType": "int64",
         "type": "integer"
        },
        {
         "name": "pekerjaan",
         "rawType": "object",
         "type": "string"
        },
        {
         "name": "status_perkawinan",
         "rawType": "object",
         "type": "string"
        },
        {
         "name": "pendidikan",
         "rawType": "object",
         "type": "string"
        },
        {
         "name": "gagal_bayar_sebelumnya",
         "rawType": "object",
         "type": "string"
        },
        {
         "name": "pinjaman_rumah",
         "rawType": "object",
         "type": "string"
        },
        {
         "name": "pinjaman_pribadi",
         "rawType": "object",
         "type": "string"
        },
        {
         "name": "jenis_kontak",
         "rawType": "object",
         "type": "string"
        },
        {
         "name": "bulan_kontak_terakhir",
         "rawType": "object",
         "type": "string"
        },
        {
         "name": "hari_kontak_terakhir",
         "rawType": "object",
         "type": "string"
        },
        {
         "name": "jumlah_kontak_kampanye_ini",
         "rawType": "int64",
         "type": "integer"
        },
        {
         "name": "hari_sejak_kontak_sebelumnya",
         "rawType": "int64",
         "type": "integer"
        },
        {
         "name": "jumlah_kontak_sebelumnya",
         "rawType": "int64",
         "type": "integer"
        },
        {
         "name": "hasil_kampanye_sebelumnya",
         "rawType": "object",
         "type": "string"
        },
        {
         "name": "tingkat_variasi_pekerjaan",
         "rawType": "float64",
         "type": "float"
        },
        {
         "name": "indeks_harga_konsumen",
         "rawType": "float64",
         "type": "float"
        },
        {
         "name": "indeks_kepercayaan_konsumen",
         "rawType": "float64",
         "type": "float"
        },
        {
         "name": "suku_bunga_euribor_3bln",
         "rawType": "float64",
         "type": "float"
        },
        {
         "name": "jumlah_pekerja",
         "rawType": "float64",
         "type": "float"
        },
        {
         "name": "pulau",
         "rawType": "object",
         "type": "string"
        },
        {
         "name": "berlangganan_deposito",
         "rawType": "int64",
         "type": "integer"
        }
       ],
       "conversionMethod": "pd.DataFrame",
       "ref": "a1e262a8-2445-4fad-bb3e-277e27a77405",
       "rows": [
        [
         "0",
         "531036",
         "63",
         "sosial media specialis",
         "menikah",
         "Pendidikan Tinggi",
         "no",
         "yes",
         "no",
         "cellular",
         "jul",
         "fri",
         "2",
         "999",
         "0",
         "nonexistent",
         "-1.7",
         "94.215",
         "-40.3",
         "0.885",
         "4991.6",
         "Papua",
         "1"
        ],
        [
         "1",
         "999241",
         "43",
         "teknisi",
         "menikah",
         "Pendidikan Tinggi",
         "no",
         "yes",
         "no",
         "cellular",
         "nov",
         "fri",
         "2",
         "999",
         "0",
         "nonexistent",
         "-0.1",
         "93.2",
         "-42.0",
         "4.021",
         "5195.8",
         "Sulawesi",
         "0"
        ],
        [
         "2",
         "995002",
         "29",
         "sosial media specialis",
         "lajang",
         "Pendidikan Tinggi",
         "no",
         "yes",
         "yes",
         "cellular",
         "jul",
         "thu",
         "1",
         "999",
         "0",
         "nonexistent",
         "1.4",
         "93.918",
         "-42.7",
         "4.958",
         "5228.1",
         "Papua",
         "0"
        ],
        [
         "3",
         "932750",
         "40",
         "pekerja kasar",
         "menikah",
         "SMA",
         "no",
         "no",
         "no",
         "telephone",
         "may",
         "wed",
         "2",
         "999",
         "0",
         "nonexistent",
         "1.1",
         "93.994",
         "-36.4",
         "4.859",
         "5191.0",
         "Sumatera",
         "1"
        ],
        [
         "4",
         "684699",
         "40",
         "sosial media specialis",
         "lajang",
         "Pendidikan Tinggi",
         "no",
         "no",
         "no",
         "cellular",
         "aug",
         "wed",
         "3",
         "999",
         "0",
         "nonexistent",
         "1.4",
         "93.444",
         "-36.1",
         "4.964",
         "5228.1",
         "Bali",
         "0"
        ]
       ],
       "shape": {
        "columns": 22,
        "rows": 5
       }
      },
      "text/html": [
       "<div>\n",
       "<style scoped>\n",
       "    .dataframe tbody tr th:only-of-type {\n",
       "        vertical-align: middle;\n",
       "    }\n",
       "\n",
       "    .dataframe tbody tr th {\n",
       "        vertical-align: top;\n",
       "    }\n",
       "\n",
       "    .dataframe thead th {\n",
       "        text-align: right;\n",
       "    }\n",
       "</style>\n",
       "<table border=\"1\" class=\"dataframe\">\n",
       "  <thead>\n",
       "    <tr style=\"text-align: right;\">\n",
       "      <th></th>\n",
       "      <th>customer_number</th>\n",
       "      <th>usia</th>\n",
       "      <th>pekerjaan</th>\n",
       "      <th>status_perkawinan</th>\n",
       "      <th>pendidikan</th>\n",
       "      <th>gagal_bayar_sebelumnya</th>\n",
       "      <th>pinjaman_rumah</th>\n",
       "      <th>pinjaman_pribadi</th>\n",
       "      <th>jenis_kontak</th>\n",
       "      <th>bulan_kontak_terakhir</th>\n",
       "      <th>hari_kontak_terakhir</th>\n",
       "      <th>jumlah_kontak_kampanye_ini</th>\n",
       "      <th>hari_sejak_kontak_sebelumnya</th>\n",
       "      <th>jumlah_kontak_sebelumnya</th>\n",
       "      <th>hasil_kampanye_sebelumnya</th>\n",
       "      <th>tingkat_variasi_pekerjaan</th>\n",
       "      <th>indeks_harga_konsumen</th>\n",
       "      <th>indeks_kepercayaan_konsumen</th>\n",
       "      <th>suku_bunga_euribor_3bln</th>\n",
       "      <th>jumlah_pekerja</th>\n",
       "      <th>pulau</th>\n",
       "      <th>berlangganan_deposito</th>\n",
       "    </tr>\n",
       "  </thead>\n",
       "  <tbody>\n",
       "    <tr>\n",
       "      <th>0</th>\n",
       "      <td>531036</td>\n",
       "      <td>63</td>\n",
       "      <td>sosial media specialis</td>\n",
       "      <td>menikah</td>\n",
       "      <td>Pendidikan Tinggi</td>\n",
       "      <td>no</td>\n",
       "      <td>yes</td>\n",
       "      <td>no</td>\n",
       "      <td>cellular</td>\n",
       "      <td>jul</td>\n",
       "      <td>fri</td>\n",
       "      <td>2</td>\n",
       "      <td>999</td>\n",
       "      <td>0</td>\n",
       "      <td>nonexistent</td>\n",
       "      <td>-1.7</td>\n",
       "      <td>94.215</td>\n",
       "      <td>-40.3</td>\n",
       "      <td>0.885</td>\n",
       "      <td>4991.6</td>\n",
       "      <td>Papua</td>\n",
       "      <td>1</td>\n",
       "    </tr>\n",
       "    <tr>\n",
       "      <th>1</th>\n",
       "      <td>999241</td>\n",
       "      <td>43</td>\n",
       "      <td>teknisi</td>\n",
       "      <td>menikah</td>\n",
       "      <td>Pendidikan Tinggi</td>\n",
       "      <td>no</td>\n",
       "      <td>yes</td>\n",
       "      <td>no</td>\n",
       "      <td>cellular</td>\n",
       "      <td>nov</td>\n",
       "      <td>fri</td>\n",
       "      <td>2</td>\n",
       "      <td>999</td>\n",
       "      <td>0</td>\n",
       "      <td>nonexistent</td>\n",
       "      <td>-0.1</td>\n",
       "      <td>93.200</td>\n",
       "      <td>-42.0</td>\n",
       "      <td>4.021</td>\n",
       "      <td>5195.8</td>\n",
       "      <td>Sulawesi</td>\n",
       "      <td>0</td>\n",
       "    </tr>\n",
       "    <tr>\n",
       "      <th>2</th>\n",
       "      <td>995002</td>\n",
       "      <td>29</td>\n",
       "      <td>sosial media specialis</td>\n",
       "      <td>lajang</td>\n",
       "      <td>Pendidikan Tinggi</td>\n",
       "      <td>no</td>\n",
       "      <td>yes</td>\n",
       "      <td>yes</td>\n",
       "      <td>cellular</td>\n",
       "      <td>jul</td>\n",
       "      <td>thu</td>\n",
       "      <td>1</td>\n",
       "      <td>999</td>\n",
       "      <td>0</td>\n",
       "      <td>nonexistent</td>\n",
       "      <td>1.4</td>\n",
       "      <td>93.918</td>\n",
       "      <td>-42.7</td>\n",
       "      <td>4.958</td>\n",
       "      <td>5228.1</td>\n",
       "      <td>Papua</td>\n",
       "      <td>0</td>\n",
       "    </tr>\n",
       "    <tr>\n",
       "      <th>3</th>\n",
       "      <td>932750</td>\n",
       "      <td>40</td>\n",
       "      <td>pekerja kasar</td>\n",
       "      <td>menikah</td>\n",
       "      <td>SMA</td>\n",
       "      <td>no</td>\n",
       "      <td>no</td>\n",
       "      <td>no</td>\n",
       "      <td>telephone</td>\n",
       "      <td>may</td>\n",
       "      <td>wed</td>\n",
       "      <td>2</td>\n",
       "      <td>999</td>\n",
       "      <td>0</td>\n",
       "      <td>nonexistent</td>\n",
       "      <td>1.1</td>\n",
       "      <td>93.994</td>\n",
       "      <td>-36.4</td>\n",
       "      <td>4.859</td>\n",
       "      <td>5191.0</td>\n",
       "      <td>Sumatera</td>\n",
       "      <td>1</td>\n",
       "    </tr>\n",
       "    <tr>\n",
       "      <th>4</th>\n",
       "      <td>684699</td>\n",
       "      <td>40</td>\n",
       "      <td>sosial media specialis</td>\n",
       "      <td>lajang</td>\n",
       "      <td>Pendidikan Tinggi</td>\n",
       "      <td>no</td>\n",
       "      <td>no</td>\n",
       "      <td>no</td>\n",
       "      <td>cellular</td>\n",
       "      <td>aug</td>\n",
       "      <td>wed</td>\n",
       "      <td>3</td>\n",
       "      <td>999</td>\n",
       "      <td>0</td>\n",
       "      <td>nonexistent</td>\n",
       "      <td>1.4</td>\n",
       "      <td>93.444</td>\n",
       "      <td>-36.1</td>\n",
       "      <td>4.964</td>\n",
       "      <td>5228.1</td>\n",
       "      <td>Bali</td>\n",
       "      <td>0</td>\n",
       "    </tr>\n",
       "  </tbody>\n",
       "</table>\n",
       "</div>"
      ],
      "text/plain": [
       "   customer_number  usia  ...     pulau berlangganan_deposito\n",
       "0           531036    63  ...     Papua                     1\n",
       "1           999241    43  ...  Sulawesi                     0\n",
       "2           995002    29  ...     Papua                     0\n",
       "3           932750    40  ...  Sumatera                     1\n",
       "4           684699    40  ...      Bali                     0\n",
       "\n",
       "[5 rows x 22 columns]"
      ]
     },
     "execution_count": 48,
     "metadata": {},
     "output_type": "execute_result"
    }
   ],
   "source": [
    "train.head()"
   ]
  },
  {
   "cell_type": "markdown",
   "id": "8deb148c",
   "metadata": {},
   "source": [
    "# EDA"
   ]
  },
  {
   "cell_type": "code",
   "execution_count": null,
   "id": "3fd76f79",
   "metadata": {},
   "outputs": [],
   "source": [
    "sns.boxplot(data=train)"
   ]
  },
  {
   "cell_type": "code",
   "execution_count": 49,
   "id": "1a8d3c3f",
   "metadata": {},
   "outputs": [
    {
     "name": "stdout",
     "output_type": "stream",
     "text": [
      "Unique Value pendidikan: ['Pendidikan Tinggi' 'SMA' 'Tidak Tamat SD' 'SMP' 'Diploma' 'SD' 'unknown'\n",
      " 'TIDAK SEKOLAH']\n",
      "Unique Value pekerjaan: ['sosial media specialis' 'teknisi' 'pekerja kasar' 'manajer'\n",
      " 'asisten rumah tangga' 'mahasiswa' 'penyedia jasa' 'pemilik bisnis'\n",
      " 'entrepreneur' 'pengangguran' 'pensiunan' 'unknown']\n",
      "Unique Value status_perkawinan: ['menikah' 'lajang' 'cerai' 'unknown']\n",
      "Unique Value bulan_kontak_terakhir: ['jul' 'nov' 'may' 'aug' 'oct' 'apr' 'jun' 'sep' 'mar' 'dec']\n",
      "Unique Value hari_kontak_terakhir: ['fri' 'thu' 'wed' 'tue' 'mon']\n"
     ]
    }
   ],
   "source": [
    "print(\"Unique Value pendidikan:\", train['pendidikan'].unique())\n",
    "print(\"Unique Value pekerjaan:\", train['pekerjaan'].unique())\n",
    "print(\"Unique Value status_perkawinan:\", train['status_perkawinan'].unique())\n",
    "print(\"Unique Value bulan_kontak_terakhir:\", train['bulan_kontak_terakhir'].unique())\n",
    "print(\"Unique Value hari_kontak_terakhir:\", train['hari_kontak_terakhir'].unique())"
   ]
  }
 ],
 "metadata": {
  "kernelspec": {
   "display_name": "pytorch-gpu",
   "language": "python",
   "name": "python3"
  },
  "language_info": {
   "codemirror_mode": {
    "name": "ipython",
    "version": 3
   },
   "file_extension": ".py",
   "mimetype": "text/x-python",
   "name": "python",
   "nbconvert_exporter": "python",
   "pygments_lexer": "ipython3",
   "version": "3.10.17"
  }
 },
 "nbformat": 4,
 "nbformat_minor": 5
}
